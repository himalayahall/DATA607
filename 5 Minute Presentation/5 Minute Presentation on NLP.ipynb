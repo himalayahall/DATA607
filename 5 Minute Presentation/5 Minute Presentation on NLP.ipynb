{
 "cells": [
  {
   "cell_type": "markdown",
   "id": "345051cf",
   "metadata": {},
   "source": [
    "# Introduction\n",
    "\n",
    "Natural Language Provcessing (NLP) is a major branch of Artificial Intelligence (AI), concerned with giving machines the ability to understand text and spoken words in much the same way human beings can.  \n",
    "\n",
    "Unlike keyword matching or using regular expressions, NLP attempts to understand text at a deep syntactic and semantic level. This deep sytactic and semantic anaylysis powers a huge part of our everyday interactions with the digital world, including web searches, social media, chatbots, translators, voice commands, etc.\n",
    "\n",
    "In this notebook we will explore some key NLP concepts using NLTK and Spacy libraries.\n",
    "\n",
    "Shameless Icertis plug: my foray into NLP started with Icertis, the SaaS leader for Contract Lifecycle Management (CLM) with 400+ global enterprise customers like Microsoft, Google, Adobe, Airbus, Boeing, Goldman Sachs, Jefferies, JP Morgan, Barclays, Daimler, Costco, Accenture, SAP, BASF, Palintir, Best Buy, Subway, Merck, Infosys, Humana, Freddie Mac, DISH, Cognizant, etc."
   ]
  },
  {
   "cell_type": "markdown",
   "id": "365cee62",
   "metadata": {},
   "source": [
    "# Basic Concepts\n",
    "\n",
    "## Tokenization\n",
    "\n",
    "Anyone who has worked with unstructured data has most likely used tokenization. This is the process of taking a body of text, e.g. a tweet or movie review, and breaking it down into its contituent parts. Input can be sentences (collection of words), documents (collection of sentences), or corpus (collection of documents).\n",
    "\n",
    "Depending on the context, word/sentence/document boundaries play a critical role in analyzing the input text. For example, correctly recognizing *clause boundaries* (preamble, payment terms, termination, remediation, etc.) in a legal document is an essential pre-requisite for further downstream processing (clause classification, NER). \n",
    "\n",
    "Let's load NLTK and create a sample document we want to analyze."
   ]
  },
  {
   "cell_type": "code",
   "execution_count": 152,
   "id": "e81182fd",
   "metadata": {},
   "outputs": [],
   "source": [
    "#import sys\n",
    "#!{sys.executable} -m pip install nltk\n",
    "#!{sys.executable} -m pip install textblob"
   ]
  },
  {
   "cell_type": "code",
   "execution_count": 153,
   "id": "eccfe347",
   "metadata": {},
   "outputs": [],
   "source": [
    "\n",
    "# import sentence and work tokenizers from NLTK\n",
    "from nltk.tokenize import sent_tokenize, word_tokenize\n",
    "\n",
    "example_string = \"\"\"\n",
    "European authorities fined Google a record $5.1 billion on Wednesday for abusing its power in the mobile phone market and ordered the company to alter its practices \n",
    "\"\"\""
   ]
  },
  {
   "cell_type": "code",
   "execution_count": 154,
   "id": "68834d8a",
   "metadata": {},
   "outputs": [
    {
     "data": {
      "text/plain": [
       "['\\nEuropean authorities fined Google a record $5.1 billion on Wednesday for abusing its power in the mobile phone market and ordered the company to alter its practices']"
      ]
     },
     "execution_count": 154,
     "metadata": {},
     "output_type": "execute_result"
    }
   ],
   "source": [
    "sents = sent_tokenize(example_string)\n",
    "sents"
   ]
  },
  {
   "cell_type": "markdown",
   "id": "b84150a7",
   "metadata": {},
   "source": [
    "Notice, sentences have been extracted from our 'document' (a collection of sentences).  \n",
    "\n",
    "Now, let's tokenize by words."
   ]
  },
  {
   "cell_type": "code",
   "execution_count": 155,
   "id": "e36e7ac1",
   "metadata": {},
   "outputs": [
    {
     "data": {
      "text/plain": [
       "['European',\n",
       " 'authorities',\n",
       " 'fined',\n",
       " 'Google',\n",
       " 'a',\n",
       " 'record',\n",
       " '$',\n",
       " '5.1',\n",
       " 'billion',\n",
       " 'on',\n",
       " 'Wednesday',\n",
       " 'for',\n",
       " 'abusing',\n",
       " 'its',\n",
       " 'power',\n",
       " 'in',\n",
       " 'the',\n",
       " 'mobile',\n",
       " 'phone',\n",
       " 'market',\n",
       " 'and',\n",
       " 'ordered',\n",
       " 'the',\n",
       " 'company',\n",
       " 'to',\n",
       " 'alter',\n",
       " 'its',\n",
       " 'practices']"
      ]
     },
     "execution_count": 155,
     "metadata": {},
     "output_type": "execute_result"
    }
   ],
   "source": [
    "words = word_tokenize(example_string)\n",
    "words"
   ]
  },
  {
   "cell_type": "markdown",
   "id": "0c9a0ead",
   "metadata": {},
   "source": [
    "## Stopwords\n",
    "\n",
    "From the perspective of semantic understanding some words are less important than others. Stop words are typically filtered out from the input text during pre-processing. Common words like 'in', 'is', and 'an' are often used as stop words in English since they don’t add a lot of meaning to a text in and of themselves."
   ]
  },
  {
   "cell_type": "code",
   "execution_count": 157,
   "id": "ffe4ea15",
   "metadata": {},
   "outputs": [
    {
     "name": "stderr",
     "output_type": "stream",
     "text": [
      "[nltk_data] Downloading package stopwords to\n",
      "[nltk_data]     /Users/jawaidhakim/nltk_data...\n",
      "[nltk_data]   Package stopwords is already up-to-date!\n"
     ]
    },
    {
     "data": {
      "text/plain": [
       "True"
      ]
     },
     "execution_count": 157,
     "metadata": {},
     "output_type": "execute_result"
    }
   ],
   "source": [
    "import nltk\n",
    "nltk.download(\"stopwords\")"
   ]
  },
  {
   "cell_type": "code",
   "execution_count": 158,
   "id": "5b815eaf",
   "metadata": {},
   "outputs": [
    {
     "name": "stdout",
     "output_type": "stream",
     "text": [
      "179\n"
     ]
    }
   ],
   "source": [
    "import random\n",
    "from nltk.corpus import stopwords\n",
    "\n",
    "stop_words = set(stopwords.words(\"english\"))\n",
    "\n",
    "print(len(stop_words))\n",
    "\n",
    "#print(random.sample(stop_words, 20))"
   ]
  },
  {
   "cell_type": "code",
   "execution_count": 159,
   "id": "cafcdfd1",
   "metadata": {},
   "outputs": [
    {
     "data": {
      "text/plain": [
       "['European',\n",
       " 'authorities',\n",
       " 'fined',\n",
       " 'Google',\n",
       " 'record',\n",
       " '$',\n",
       " '5.1',\n",
       " 'billion',\n",
       " 'Wednesday',\n",
       " 'abusing',\n",
       " 'power',\n",
       " 'mobile',\n",
       " 'phone',\n",
       " 'market',\n",
       " 'ordered',\n",
       " 'company',\n",
       " 'alter',\n",
       " 'practices']"
      ]
     },
     "execution_count": 159,
     "metadata": {},
     "output_type": "execute_result"
    }
   ],
   "source": [
    "filtered_list = [word for word in words if word.casefold() not in stop_words]\n",
    "filtered_list"
   ]
  },
  {
   "cell_type": "markdown",
   "id": "d97d175d",
   "metadata": {},
   "source": [
    "## Stemming\n",
    "\n",
    "Stemming is a text processing task in which words are reduced to their root. For example, the words “helping” and “helper” share the root “help.” Stemming allows you to zero in on the basic meaning of a word rather than all the details of how it’s being used."
   ]
  },
  {
   "cell_type": "code",
   "execution_count": 160,
   "id": "cb280b9b",
   "metadata": {},
   "outputs": [
    {
     "data": {
      "text/plain": [
       "['european',\n",
       " 'author',\n",
       " 'fine',\n",
       " 'googl',\n",
       " 'a',\n",
       " 'record',\n",
       " '$',\n",
       " '5.1',\n",
       " 'billion',\n",
       " 'on',\n",
       " 'wednesday',\n",
       " 'for',\n",
       " 'abus',\n",
       " 'it',\n",
       " 'power',\n",
       " 'in',\n",
       " 'the',\n",
       " 'mobil',\n",
       " 'phone',\n",
       " 'market',\n",
       " 'and',\n",
       " 'order',\n",
       " 'the',\n",
       " 'compani',\n",
       " 'to',\n",
       " 'alter',\n",
       " 'it',\n",
       " 'practic']"
      ]
     },
     "execution_count": 160,
     "metadata": {},
     "output_type": "execute_result"
    }
   ],
   "source": [
    "from nltk.stem import PorterStemmer\n",
    "\n",
    "stemmer = PorterStemmer()\n",
    "stemmed_words = [stemmer.stem(word) for word in words]\n",
    "stemmed_words"
   ]
  },
  {
   "cell_type": "markdown",
   "id": "f40107b5",
   "metadata": {},
   "source": [
    "## Lemmatizing\n",
    "\n",
    "Like stemming, lemmatizing reduces words to their core meaning, but it will give you a complete English word that makes sense on its own instead of just a fragment of a word like 'compani'."
   ]
  },
  {
   "cell_type": "code",
   "execution_count": 161,
   "id": "5d9eefca",
   "metadata": {},
   "outputs": [
    {
     "name": "stderr",
     "output_type": "stream",
     "text": [
      "[nltk_data] Downloading package omw-1.4 to\n",
      "[nltk_data]     /Users/jawaidhakim/nltk_data...\n",
      "[nltk_data]   Package omw-1.4 is already up-to-date!\n"
     ]
    },
    {
     "data": {
      "text/plain": [
       "['European',\n",
       " 'authority',\n",
       " 'fined',\n",
       " 'Google',\n",
       " 'record',\n",
       " '$',\n",
       " '5.1',\n",
       " 'billion',\n",
       " 'Wednesday',\n",
       " 'abusing',\n",
       " 'power',\n",
       " 'mobile',\n",
       " 'phone',\n",
       " 'market',\n",
       " 'ordered',\n",
       " 'company',\n",
       " 'alter',\n",
       " 'practice']"
      ]
     },
     "execution_count": 161,
     "metadata": {},
     "output_type": "execute_result"
    }
   ],
   "source": [
    "from nltk.stem import WordNetLemmatizer\n",
    "nltk.download('omw-1.4')\n",
    "\n",
    "lemmatizer = WordNetLemmatizer()\n",
    "\n",
    "[lemmatizer.lemmatize(word) for word in words if word.casefold() not in stop_words]"
   ]
  },
  {
   "cell_type": "markdown",
   "id": "6f66f12c",
   "metadata": {},
   "source": [
    "## Parts of Speech (POS)\n",
    "\n",
    "Part of speech is a grammatical term that deals with the roles words play when you use them together in \n",
    "sentences. Tagging parts of speech, or POS tagging, is the task of labeling the words in your text according to their part of speech.  \n",
    "\n",
    "English has the following POS:\n",
    "\n",
    "| Parts of Speech | Role | Examples|\n",
    "| ------- | ------- | ------ |\n",
    "| Noun | Is a person, place, or thing | mountain, Germany, India |\n",
    "| Pronoun | Replaces a noun | you, she, we |\n",
    "| Adjective | Gives information about what a noun is like | brave, colorful, smart |\n",
    "| Verb | Is an action of state of being | learn, write, play |\n",
    "| ... | ... | ...\n"
   ]
  },
  {
   "cell_type": "code",
   "execution_count": 162,
   "id": "e790501a",
   "metadata": {},
   "outputs": [
    {
     "name": "stderr",
     "output_type": "stream",
     "text": [
      "[nltk_data] Downloading package averaged_perceptron_tagger to\n",
      "[nltk_data]     /Users/jawaidhakim/nltk_data...\n",
      "[nltk_data]   Package averaged_perceptron_tagger is already up-to-\n",
      "[nltk_data]       date!\n"
     ]
    },
    {
     "data": {
      "text/plain": [
       "[('European', 'JJ'),\n",
       " ('authorities', 'NNS'),\n",
       " ('fined', 'VBD'),\n",
       " ('Google', 'NNP'),\n",
       " ('a', 'DT'),\n",
       " ('record', 'NN'),\n",
       " ('$', '$'),\n",
       " ('5.1', 'CD'),\n",
       " ('billion', 'CD'),\n",
       " ('on', 'IN'),\n",
       " ('Wednesday', 'NNP'),\n",
       " ('for', 'IN'),\n",
       " ('abusing', 'VBG'),\n",
       " ('its', 'PRP$'),\n",
       " ('power', 'NN'),\n",
       " ('in', 'IN'),\n",
       " ('the', 'DT'),\n",
       " ('mobile', 'JJ'),\n",
       " ('phone', 'NN'),\n",
       " ('market', 'NN'),\n",
       " ('and', 'CC'),\n",
       " ('ordered', 'VBD'),\n",
       " ('the', 'DT'),\n",
       " ('company', 'NN'),\n",
       " ('to', 'TO'),\n",
       " ('alter', 'VB'),\n",
       " ('its', 'PRP$'),\n",
       " ('practices', 'NNS')]"
      ]
     },
     "execution_count": 162,
     "metadata": {},
     "output_type": "execute_result"
    }
   ],
   "source": [
    "nltk.download(\"averaged_perceptron_tagger\")\n",
    "pos_tags = nltk.pos_tag(words)\n",
    "pos_tags"
   ]
  },
  {
   "cell_type": "markdown",
   "id": "b08451b2",
   "metadata": {},
   "source": [
    "## Named Entity Recognition (NER)\n",
    "\n",
    "Named entities are noun phrases that refer to specific locations, people, organizations, and so on. With named entity recognition, you can identify the named entities in your corpus. For example, when processing a legal contract it is essential to recognize NERs suck as parties to the contract, effective/termination dates, contract value, etc.  \n",
    "\n",
    "The set of entities is dependent on the NER you are using. For example, **Spacy** recognizes the following entities:  \n",
    "\n",
    "| NE type | Details |\n",
    "| --------| --------\n",
    "| PERSON |      People, including fictional |\n",
    "| NORP |        Nationalities or religious or political groups |\n",
    "| FAC |         Buildings, airports, highways, bridges, etc |\n",
    "| ORG |         Companies, agencies, institutions, etc |\n",
    "| GPE |         Countries, cities, states |\n",
    "| LOC |         Non-GPE locations, mountain ranges, bodies of water |\n",
    "| PRODUCT |     Objects, vehicles, foods, etc | (Not services |)\n",
    "| EVENT |       Named hurricanes, battles, wars, sports events, etc |\n",
    "| WORK_OF_ART | Titles of books, songs, etc |\n",
    "| LAW |         Named documents made into laws |\n",
    "| LANGUAGE |    Any named language |\n",
    "| DATE |        Absolute or relative dates or periods |\n",
    "| TIME |        Times smaller than a day |\n",
    "| PERCENT |     Percentage, including ”%“ |\n",
    "| MONEY |       Monetary values, including unit |\n",
    "| QUANTITY |    Measurements, as of weight or distance |\n",
    "| ORDINAL |     “first”, “second”, etc |\n",
    "| CARDINAL |    Numerals that do not fall under another type |\n",
    "\n",
    "Now we will use the *Spacy* for our NER. Spacy comes with a pre-built (default) pipeline so tasks we discussed above, like tokenizing and lemmatizing, are performed implicitly. Of course, it's possible to turn off any stage of the pipeline, e.g. if the input has already been tokenized then the tokenizing task can be explicitly disabled."
   ]
  },
  {
   "cell_type": "code",
   "execution_count": 163,
   "id": "9f9f087a",
   "metadata": {},
   "outputs": [],
   "source": [
    "#import sys\n",
    "#!{sys.executable} -m pip install spacy"
   ]
  },
  {
   "cell_type": "code",
   "execution_count": 164,
   "id": "9dbec560",
   "metadata": {},
   "outputs": [
    {
     "name": "stderr",
     "output_type": "stream",
     "text": [
      "/Users/jawaidhakim/.pyenv/versions/3.9.1/lib/python3.9/site-packages/spacy/util.py:865: UserWarning: [W095] Model 'en_core_web_sm' (3.0.0) was trained with spaCy v3.0 and may not be 100% compatible with the current version (3.4.1). If you see errors or degraded performance, download a newer compatible model or retrain your custom model with the current spaCy version. For more details and available updates, run: python -m spacy validate\n",
      "  warnings.warn(warn_msg)\n"
     ]
    }
   ],
   "source": [
    "import spacy\n",
    "from spacy import displacy\n",
    "\n",
    "import en_core_web_sm\n",
    "nlp = en_core_web_sm.load()\n",
    "\n",
    "doc = nlp(example_string)"
   ]
  },
  {
   "cell_type": "markdown",
   "id": "97dde82f",
   "metadata": {},
   "source": [
    "Let's first render the NER within the sentence context."
   ]
  },
  {
   "cell_type": "code",
   "execution_count": 165,
   "id": "d2d1ce35",
   "metadata": {},
   "outputs": [
    {
     "data": {
      "text/html": [
       "<span class=\"tex2jax_ignore\"><div class=\"entities\" style=\"line-height: 2.5; direction: ltr\"></br>\n",
       "<mark class=\"entity\" style=\"background: #c887fb; padding: 0.45em 0.6em; margin: 0 0.25em; line-height: 1; border-radius: 0.35em;\">\n",
       "    European\n",
       "    <span style=\"font-size: 0.8em; font-weight: bold; line-height: 1; border-radius: 0.35em; vertical-align: middle; margin-left: 0.5rem\">NORP</span>\n",
       "</mark>\n",
       " authorities fined \n",
       "<mark class=\"entity\" style=\"background: #7aecec; padding: 0.45em 0.6em; margin: 0 0.25em; line-height: 1; border-radius: 0.35em;\">\n",
       "    Google\n",
       "    <span style=\"font-size: 0.8em; font-weight: bold; line-height: 1; border-radius: 0.35em; vertical-align: middle; margin-left: 0.5rem\">ORG</span>\n",
       "</mark>\n",
       " a record \n",
       "<mark class=\"entity\" style=\"background: #e4e7d2; padding: 0.45em 0.6em; margin: 0 0.25em; line-height: 1; border-radius: 0.35em;\">\n",
       "    $5.1 billion\n",
       "    <span style=\"font-size: 0.8em; font-weight: bold; line-height: 1; border-radius: 0.35em; vertical-align: middle; margin-left: 0.5rem\">MONEY</span>\n",
       "</mark>\n",
       " on \n",
       "<mark class=\"entity\" style=\"background: #bfe1d9; padding: 0.45em 0.6em; margin: 0 0.25em; line-height: 1; border-radius: 0.35em;\">\n",
       "    Wednesday\n",
       "    <span style=\"font-size: 0.8em; font-weight: bold; line-height: 1; border-radius: 0.35em; vertical-align: middle; margin-left: 0.5rem\">DATE</span>\n",
       "</mark>\n",
       " for abusing its power in the mobile phone market and ordered the company to alter its practices </br></div></span>"
      ],
      "text/plain": [
       "<IPython.core.display.HTML object>"
      ]
     },
     "metadata": {},
     "output_type": "display_data"
    }
   ],
   "source": [
    "displacy.render(doc, style=\"ent\", jupyter=True)"
   ]
  },
  {
   "cell_type": "markdown",
   "id": "cedb6a36",
   "metadata": {},
   "source": [
    "Next we render NER dependencies."
   ]
  },
  {
   "cell_type": "code",
   "execution_count": 166,
   "id": "39bdfcb0",
   "metadata": {},
   "outputs": [
    {
     "data": {
      "text/html": [
       "<span class=\"tex2jax_ignore\"><svg xmlns=\"http://www.w3.org/2000/svg\" xmlns:xlink=\"http://www.w3.org/1999/xlink\" xml:lang=\"en\" id=\"c2bcf4bdb55b4425815d5688f3551e70-0\" class=\"displacy\" width=\"3050\" height=\"537.0\" direction=\"ltr\" style=\"max-width: none; height: 537.0px; color: #000000; background: #ffffff; font-family: Arial; direction: ltr\">\n",
       "<text class=\"displacy-token\" fill=\"currentColor\" text-anchor=\"middle\" y=\"447.0\">\n",
       "    <tspan class=\"displacy-word\" fill=\"currentColor\" x=\"50\">\n",
       "</tspan>\n",
       "    <tspan class=\"displacy-tag\" dy=\"2em\" fill=\"currentColor\" x=\"50\">SPACE</tspan>\n",
       "</text>\n",
       "\n",
       "<text class=\"displacy-token\" fill=\"currentColor\" text-anchor=\"middle\" y=\"447.0\">\n",
       "    <tspan class=\"displacy-word\" fill=\"currentColor\" x=\"150\">European</tspan>\n",
       "    <tspan class=\"displacy-tag\" dy=\"2em\" fill=\"currentColor\" x=\"150\">ADJ</tspan>\n",
       "</text>\n",
       "\n",
       "<text class=\"displacy-token\" fill=\"currentColor\" text-anchor=\"middle\" y=\"447.0\">\n",
       "    <tspan class=\"displacy-word\" fill=\"currentColor\" x=\"250\">authorities</tspan>\n",
       "    <tspan class=\"displacy-tag\" dy=\"2em\" fill=\"currentColor\" x=\"250\">NOUN</tspan>\n",
       "</text>\n",
       "\n",
       "<text class=\"displacy-token\" fill=\"currentColor\" text-anchor=\"middle\" y=\"447.0\">\n",
       "    <tspan class=\"displacy-word\" fill=\"currentColor\" x=\"350\">fined</tspan>\n",
       "    <tspan class=\"displacy-tag\" dy=\"2em\" fill=\"currentColor\" x=\"350\">VERB</tspan>\n",
       "</text>\n",
       "\n",
       "<text class=\"displacy-token\" fill=\"currentColor\" text-anchor=\"middle\" y=\"447.0\">\n",
       "    <tspan class=\"displacy-word\" fill=\"currentColor\" x=\"450\">Google</tspan>\n",
       "    <tspan class=\"displacy-tag\" dy=\"2em\" fill=\"currentColor\" x=\"450\">PROPN</tspan>\n",
       "</text>\n",
       "\n",
       "<text class=\"displacy-token\" fill=\"currentColor\" text-anchor=\"middle\" y=\"447.0\">\n",
       "    <tspan class=\"displacy-word\" fill=\"currentColor\" x=\"550\">a</tspan>\n",
       "    <tspan class=\"displacy-tag\" dy=\"2em\" fill=\"currentColor\" x=\"550\">DET</tspan>\n",
       "</text>\n",
       "\n",
       "<text class=\"displacy-token\" fill=\"currentColor\" text-anchor=\"middle\" y=\"447.0\">\n",
       "    <tspan class=\"displacy-word\" fill=\"currentColor\" x=\"650\">record</tspan>\n",
       "    <tspan class=\"displacy-tag\" dy=\"2em\" fill=\"currentColor\" x=\"650\">NOUN</tspan>\n",
       "</text>\n",
       "\n",
       "<text class=\"displacy-token\" fill=\"currentColor\" text-anchor=\"middle\" y=\"447.0\">\n",
       "    <tspan class=\"displacy-word\" fill=\"currentColor\" x=\"750\">$</tspan>\n",
       "    <tspan class=\"displacy-tag\" dy=\"2em\" fill=\"currentColor\" x=\"750\">SYM</tspan>\n",
       "</text>\n",
       "\n",
       "<text class=\"displacy-token\" fill=\"currentColor\" text-anchor=\"middle\" y=\"447.0\">\n",
       "    <tspan class=\"displacy-word\" fill=\"currentColor\" x=\"850\">5.1</tspan>\n",
       "    <tspan class=\"displacy-tag\" dy=\"2em\" fill=\"currentColor\" x=\"850\">NUM</tspan>\n",
       "</text>\n",
       "\n",
       "<text class=\"displacy-token\" fill=\"currentColor\" text-anchor=\"middle\" y=\"447.0\">\n",
       "    <tspan class=\"displacy-word\" fill=\"currentColor\" x=\"950\">billion</tspan>\n",
       "    <tspan class=\"displacy-tag\" dy=\"2em\" fill=\"currentColor\" x=\"950\">NUM</tspan>\n",
       "</text>\n",
       "\n",
       "<text class=\"displacy-token\" fill=\"currentColor\" text-anchor=\"middle\" y=\"447.0\">\n",
       "    <tspan class=\"displacy-word\" fill=\"currentColor\" x=\"1050\">on</tspan>\n",
       "    <tspan class=\"displacy-tag\" dy=\"2em\" fill=\"currentColor\" x=\"1050\">ADP</tspan>\n",
       "</text>\n",
       "\n",
       "<text class=\"displacy-token\" fill=\"currentColor\" text-anchor=\"middle\" y=\"447.0\">\n",
       "    <tspan class=\"displacy-word\" fill=\"currentColor\" x=\"1150\">Wednesday</tspan>\n",
       "    <tspan class=\"displacy-tag\" dy=\"2em\" fill=\"currentColor\" x=\"1150\">PROPN</tspan>\n",
       "</text>\n",
       "\n",
       "<text class=\"displacy-token\" fill=\"currentColor\" text-anchor=\"middle\" y=\"447.0\">\n",
       "    <tspan class=\"displacy-word\" fill=\"currentColor\" x=\"1250\">for</tspan>\n",
       "    <tspan class=\"displacy-tag\" dy=\"2em\" fill=\"currentColor\" x=\"1250\">ADP</tspan>\n",
       "</text>\n",
       "\n",
       "<text class=\"displacy-token\" fill=\"currentColor\" text-anchor=\"middle\" y=\"447.0\">\n",
       "    <tspan class=\"displacy-word\" fill=\"currentColor\" x=\"1350\">abusing</tspan>\n",
       "    <tspan class=\"displacy-tag\" dy=\"2em\" fill=\"currentColor\" x=\"1350\">VERB</tspan>\n",
       "</text>\n",
       "\n",
       "<text class=\"displacy-token\" fill=\"currentColor\" text-anchor=\"middle\" y=\"447.0\">\n",
       "    <tspan class=\"displacy-word\" fill=\"currentColor\" x=\"1450\">its</tspan>\n",
       "    <tspan class=\"displacy-tag\" dy=\"2em\" fill=\"currentColor\" x=\"1450\">PRON</tspan>\n",
       "</text>\n",
       "\n",
       "<text class=\"displacy-token\" fill=\"currentColor\" text-anchor=\"middle\" y=\"447.0\">\n",
       "    <tspan class=\"displacy-word\" fill=\"currentColor\" x=\"1550\">power</tspan>\n",
       "    <tspan class=\"displacy-tag\" dy=\"2em\" fill=\"currentColor\" x=\"1550\">NOUN</tspan>\n",
       "</text>\n",
       "\n",
       "<text class=\"displacy-token\" fill=\"currentColor\" text-anchor=\"middle\" y=\"447.0\">\n",
       "    <tspan class=\"displacy-word\" fill=\"currentColor\" x=\"1650\">in</tspan>\n",
       "    <tspan class=\"displacy-tag\" dy=\"2em\" fill=\"currentColor\" x=\"1650\">ADP</tspan>\n",
       "</text>\n",
       "\n",
       "<text class=\"displacy-token\" fill=\"currentColor\" text-anchor=\"middle\" y=\"447.0\">\n",
       "    <tspan class=\"displacy-word\" fill=\"currentColor\" x=\"1750\">the</tspan>\n",
       "    <tspan class=\"displacy-tag\" dy=\"2em\" fill=\"currentColor\" x=\"1750\">DET</tspan>\n",
       "</text>\n",
       "\n",
       "<text class=\"displacy-token\" fill=\"currentColor\" text-anchor=\"middle\" y=\"447.0\">\n",
       "    <tspan class=\"displacy-word\" fill=\"currentColor\" x=\"1850\">mobile</tspan>\n",
       "    <tspan class=\"displacy-tag\" dy=\"2em\" fill=\"currentColor\" x=\"1850\">ADJ</tspan>\n",
       "</text>\n",
       "\n",
       "<text class=\"displacy-token\" fill=\"currentColor\" text-anchor=\"middle\" y=\"447.0\">\n",
       "    <tspan class=\"displacy-word\" fill=\"currentColor\" x=\"1950\">phone</tspan>\n",
       "    <tspan class=\"displacy-tag\" dy=\"2em\" fill=\"currentColor\" x=\"1950\">NOUN</tspan>\n",
       "</text>\n",
       "\n",
       "<text class=\"displacy-token\" fill=\"currentColor\" text-anchor=\"middle\" y=\"447.0\">\n",
       "    <tspan class=\"displacy-word\" fill=\"currentColor\" x=\"2050\">market</tspan>\n",
       "    <tspan class=\"displacy-tag\" dy=\"2em\" fill=\"currentColor\" x=\"2050\">NOUN</tspan>\n",
       "</text>\n",
       "\n",
       "<text class=\"displacy-token\" fill=\"currentColor\" text-anchor=\"middle\" y=\"447.0\">\n",
       "    <tspan class=\"displacy-word\" fill=\"currentColor\" x=\"2150\">and</tspan>\n",
       "    <tspan class=\"displacy-tag\" dy=\"2em\" fill=\"currentColor\" x=\"2150\">CCONJ</tspan>\n",
       "</text>\n",
       "\n",
       "<text class=\"displacy-token\" fill=\"currentColor\" text-anchor=\"middle\" y=\"447.0\">\n",
       "    <tspan class=\"displacy-word\" fill=\"currentColor\" x=\"2250\">ordered</tspan>\n",
       "    <tspan class=\"displacy-tag\" dy=\"2em\" fill=\"currentColor\" x=\"2250\">VERB</tspan>\n",
       "</text>\n",
       "\n",
       "<text class=\"displacy-token\" fill=\"currentColor\" text-anchor=\"middle\" y=\"447.0\">\n",
       "    <tspan class=\"displacy-word\" fill=\"currentColor\" x=\"2350\">the</tspan>\n",
       "    <tspan class=\"displacy-tag\" dy=\"2em\" fill=\"currentColor\" x=\"2350\">DET</tspan>\n",
       "</text>\n",
       "\n",
       "<text class=\"displacy-token\" fill=\"currentColor\" text-anchor=\"middle\" y=\"447.0\">\n",
       "    <tspan class=\"displacy-word\" fill=\"currentColor\" x=\"2450\">company</tspan>\n",
       "    <tspan class=\"displacy-tag\" dy=\"2em\" fill=\"currentColor\" x=\"2450\">NOUN</tspan>\n",
       "</text>\n",
       "\n",
       "<text class=\"displacy-token\" fill=\"currentColor\" text-anchor=\"middle\" y=\"447.0\">\n",
       "    <tspan class=\"displacy-word\" fill=\"currentColor\" x=\"2550\">to</tspan>\n",
       "    <tspan class=\"displacy-tag\" dy=\"2em\" fill=\"currentColor\" x=\"2550\">PART</tspan>\n",
       "</text>\n",
       "\n",
       "<text class=\"displacy-token\" fill=\"currentColor\" text-anchor=\"middle\" y=\"447.0\">\n",
       "    <tspan class=\"displacy-word\" fill=\"currentColor\" x=\"2650\">alter</tspan>\n",
       "    <tspan class=\"displacy-tag\" dy=\"2em\" fill=\"currentColor\" x=\"2650\">VERB</tspan>\n",
       "</text>\n",
       "\n",
       "<text class=\"displacy-token\" fill=\"currentColor\" text-anchor=\"middle\" y=\"447.0\">\n",
       "    <tspan class=\"displacy-word\" fill=\"currentColor\" x=\"2750\">its</tspan>\n",
       "    <tspan class=\"displacy-tag\" dy=\"2em\" fill=\"currentColor\" x=\"2750\">PRON</tspan>\n",
       "</text>\n",
       "\n",
       "<text class=\"displacy-token\" fill=\"currentColor\" text-anchor=\"middle\" y=\"447.0\">\n",
       "    <tspan class=\"displacy-word\" fill=\"currentColor\" x=\"2850\">practices</tspan>\n",
       "    <tspan class=\"displacy-tag\" dy=\"2em\" fill=\"currentColor\" x=\"2850\">NOUN</tspan>\n",
       "</text>\n",
       "\n",
       "<text class=\"displacy-token\" fill=\"currentColor\" text-anchor=\"middle\" y=\"447.0\">\n",
       "    <tspan class=\"displacy-word\" fill=\"currentColor\" x=\"2950\">\n",
       "</tspan>\n",
       "    <tspan class=\"displacy-tag\" dy=\"2em\" fill=\"currentColor\" x=\"2950\">SPACE</tspan>\n",
       "</text>\n",
       "\n",
       "<g class=\"displacy-arrow\">\n",
       "    <path class=\"displacy-arc\" id=\"arrow-c2bcf4bdb55b4425815d5688f3551e70-0-0\" stroke-width=\"2px\" d=\"M70,402.0 C70,302.0 320.0,302.0 320.0,402.0\" fill=\"none\" stroke=\"currentColor\"/>\n",
       "    <text dy=\"1.25em\" style=\"font-size: 0.8em; letter-spacing: 1px\">\n",
       "        <textPath xlink:href=\"#arrow-c2bcf4bdb55b4425815d5688f3551e70-0-0\" class=\"displacy-label\" startOffset=\"50%\" side=\"left\" fill=\"currentColor\" text-anchor=\"middle\">punct</textPath>\n",
       "    </text>\n",
       "    <path class=\"displacy-arrowhead\" d=\"M70,404.0 L62,392.0 78,392.0\" fill=\"currentColor\"/>\n",
       "</g>\n",
       "\n",
       "<g class=\"displacy-arrow\">\n",
       "    <path class=\"displacy-arc\" id=\"arrow-c2bcf4bdb55b4425815d5688f3551e70-0-1\" stroke-width=\"2px\" d=\"M170,402.0 C170,352.0 215.0,352.0 215.0,402.0\" fill=\"none\" stroke=\"currentColor\"/>\n",
       "    <text dy=\"1.25em\" style=\"font-size: 0.8em; letter-spacing: 1px\">\n",
       "        <textPath xlink:href=\"#arrow-c2bcf4bdb55b4425815d5688f3551e70-0-1\" class=\"displacy-label\" startOffset=\"50%\" side=\"left\" fill=\"currentColor\" text-anchor=\"middle\">amod</textPath>\n",
       "    </text>\n",
       "    <path class=\"displacy-arrowhead\" d=\"M170,404.0 L162,392.0 178,392.0\" fill=\"currentColor\"/>\n",
       "</g>\n",
       "\n",
       "<g class=\"displacy-arrow\">\n",
       "    <path class=\"displacy-arc\" id=\"arrow-c2bcf4bdb55b4425815d5688f3551e70-0-2\" stroke-width=\"2px\" d=\"M270,402.0 C270,352.0 315.0,352.0 315.0,402.0\" fill=\"none\" stroke=\"currentColor\"/>\n",
       "    <text dy=\"1.25em\" style=\"font-size: 0.8em; letter-spacing: 1px\">\n",
       "        <textPath xlink:href=\"#arrow-c2bcf4bdb55b4425815d5688f3551e70-0-2\" class=\"displacy-label\" startOffset=\"50%\" side=\"left\" fill=\"currentColor\" text-anchor=\"middle\">nsubj</textPath>\n",
       "    </text>\n",
       "    <path class=\"displacy-arrowhead\" d=\"M270,404.0 L262,392.0 278,392.0\" fill=\"currentColor\"/>\n",
       "</g>\n",
       "\n",
       "<g class=\"displacy-arrow\">\n",
       "    <path class=\"displacy-arc\" id=\"arrow-c2bcf4bdb55b4425815d5688f3551e70-0-3\" stroke-width=\"2px\" d=\"M370,402.0 C370,352.0 415.0,352.0 415.0,402.0\" fill=\"none\" stroke=\"currentColor\"/>\n",
       "    <text dy=\"1.25em\" style=\"font-size: 0.8em; letter-spacing: 1px\">\n",
       "        <textPath xlink:href=\"#arrow-c2bcf4bdb55b4425815d5688f3551e70-0-3\" class=\"displacy-label\" startOffset=\"50%\" side=\"left\" fill=\"currentColor\" text-anchor=\"middle\">dobj</textPath>\n",
       "    </text>\n",
       "    <path class=\"displacy-arrowhead\" d=\"M415.0,404.0 L423.0,392.0 407.0,392.0\" fill=\"currentColor\"/>\n",
       "</g>\n",
       "\n",
       "<g class=\"displacy-arrow\">\n",
       "    <path class=\"displacy-arc\" id=\"arrow-c2bcf4bdb55b4425815d5688f3551e70-0-4\" stroke-width=\"2px\" d=\"M570,402.0 C570,352.0 615.0,352.0 615.0,402.0\" fill=\"none\" stroke=\"currentColor\"/>\n",
       "    <text dy=\"1.25em\" style=\"font-size: 0.8em; letter-spacing: 1px\">\n",
       "        <textPath xlink:href=\"#arrow-c2bcf4bdb55b4425815d5688f3551e70-0-4\" class=\"displacy-label\" startOffset=\"50%\" side=\"left\" fill=\"currentColor\" text-anchor=\"middle\">det</textPath>\n",
       "    </text>\n",
       "    <path class=\"displacy-arrowhead\" d=\"M570,404.0 L562,392.0 578,392.0\" fill=\"currentColor\"/>\n",
       "</g>\n",
       "\n",
       "<g class=\"displacy-arrow\">\n",
       "    <path class=\"displacy-arc\" id=\"arrow-c2bcf4bdb55b4425815d5688f3551e70-0-5\" stroke-width=\"2px\" d=\"M370,402.0 C370,302.0 620.0,302.0 620.0,402.0\" fill=\"none\" stroke=\"currentColor\"/>\n",
       "    <text dy=\"1.25em\" style=\"font-size: 0.8em; letter-spacing: 1px\">\n",
       "        <textPath xlink:href=\"#arrow-c2bcf4bdb55b4425815d5688f3551e70-0-5\" class=\"displacy-label\" startOffset=\"50%\" side=\"left\" fill=\"currentColor\" text-anchor=\"middle\">dobj</textPath>\n",
       "    </text>\n",
       "    <path class=\"displacy-arrowhead\" d=\"M620.0,404.0 L628.0,392.0 612.0,392.0\" fill=\"currentColor\"/>\n",
       "</g>\n",
       "\n",
       "<g class=\"displacy-arrow\">\n",
       "    <path class=\"displacy-arc\" id=\"arrow-c2bcf4bdb55b4425815d5688f3551e70-0-6\" stroke-width=\"2px\" d=\"M770,402.0 C770,302.0 920.0,302.0 920.0,402.0\" fill=\"none\" stroke=\"currentColor\"/>\n",
       "    <text dy=\"1.25em\" style=\"font-size: 0.8em; letter-spacing: 1px\">\n",
       "        <textPath xlink:href=\"#arrow-c2bcf4bdb55b4425815d5688f3551e70-0-6\" class=\"displacy-label\" startOffset=\"50%\" side=\"left\" fill=\"currentColor\" text-anchor=\"middle\">quantmod</textPath>\n",
       "    </text>\n",
       "    <path class=\"displacy-arrowhead\" d=\"M770,404.0 L762,392.0 778,392.0\" fill=\"currentColor\"/>\n",
       "</g>\n",
       "\n",
       "<g class=\"displacy-arrow\">\n",
       "    <path class=\"displacy-arc\" id=\"arrow-c2bcf4bdb55b4425815d5688f3551e70-0-7\" stroke-width=\"2px\" d=\"M870,402.0 C870,352.0 915.0,352.0 915.0,402.0\" fill=\"none\" stroke=\"currentColor\"/>\n",
       "    <text dy=\"1.25em\" style=\"font-size: 0.8em; letter-spacing: 1px\">\n",
       "        <textPath xlink:href=\"#arrow-c2bcf4bdb55b4425815d5688f3551e70-0-7\" class=\"displacy-label\" startOffset=\"50%\" side=\"left\" fill=\"currentColor\" text-anchor=\"middle\">compound</textPath>\n",
       "    </text>\n",
       "    <path class=\"displacy-arrowhead\" d=\"M870,404.0 L862,392.0 878,392.0\" fill=\"currentColor\"/>\n",
       "</g>\n",
       "\n",
       "<g class=\"displacy-arrow\">\n",
       "    <path class=\"displacy-arc\" id=\"arrow-c2bcf4bdb55b4425815d5688f3551e70-0-8\" stroke-width=\"2px\" d=\"M370,402.0 C370,252.0 925.0,252.0 925.0,402.0\" fill=\"none\" stroke=\"currentColor\"/>\n",
       "    <text dy=\"1.25em\" style=\"font-size: 0.8em; letter-spacing: 1px\">\n",
       "        <textPath xlink:href=\"#arrow-c2bcf4bdb55b4425815d5688f3551e70-0-8\" class=\"displacy-label\" startOffset=\"50%\" side=\"left\" fill=\"currentColor\" text-anchor=\"middle\">dobj</textPath>\n",
       "    </text>\n",
       "    <path class=\"displacy-arrowhead\" d=\"M925.0,404.0 L933.0,392.0 917.0,392.0\" fill=\"currentColor\"/>\n",
       "</g>\n",
       "\n",
       "<g class=\"displacy-arrow\">\n",
       "    <path class=\"displacy-arc\" id=\"arrow-c2bcf4bdb55b4425815d5688f3551e70-0-9\" stroke-width=\"2px\" d=\"M370,402.0 C370,202.0 1030.0,202.0 1030.0,402.0\" fill=\"none\" stroke=\"currentColor\"/>\n",
       "    <text dy=\"1.25em\" style=\"font-size: 0.8em; letter-spacing: 1px\">\n",
       "        <textPath xlink:href=\"#arrow-c2bcf4bdb55b4425815d5688f3551e70-0-9\" class=\"displacy-label\" startOffset=\"50%\" side=\"left\" fill=\"currentColor\" text-anchor=\"middle\">prep</textPath>\n",
       "    </text>\n",
       "    <path class=\"displacy-arrowhead\" d=\"M1030.0,404.0 L1038.0,392.0 1022.0,392.0\" fill=\"currentColor\"/>\n",
       "</g>\n",
       "\n",
       "<g class=\"displacy-arrow\">\n",
       "    <path class=\"displacy-arc\" id=\"arrow-c2bcf4bdb55b4425815d5688f3551e70-0-10\" stroke-width=\"2px\" d=\"M1070,402.0 C1070,352.0 1115.0,352.0 1115.0,402.0\" fill=\"none\" stroke=\"currentColor\"/>\n",
       "    <text dy=\"1.25em\" style=\"font-size: 0.8em; letter-spacing: 1px\">\n",
       "        <textPath xlink:href=\"#arrow-c2bcf4bdb55b4425815d5688f3551e70-0-10\" class=\"displacy-label\" startOffset=\"50%\" side=\"left\" fill=\"currentColor\" text-anchor=\"middle\">pobj</textPath>\n",
       "    </text>\n",
       "    <path class=\"displacy-arrowhead\" d=\"M1115.0,404.0 L1123.0,392.0 1107.0,392.0\" fill=\"currentColor\"/>\n",
       "</g>\n",
       "\n",
       "<g class=\"displacy-arrow\">\n",
       "    <path class=\"displacy-arc\" id=\"arrow-c2bcf4bdb55b4425815d5688f3551e70-0-11\" stroke-width=\"2px\" d=\"M370,402.0 C370,152.0 1235.0,152.0 1235.0,402.0\" fill=\"none\" stroke=\"currentColor\"/>\n",
       "    <text dy=\"1.25em\" style=\"font-size: 0.8em; letter-spacing: 1px\">\n",
       "        <textPath xlink:href=\"#arrow-c2bcf4bdb55b4425815d5688f3551e70-0-11\" class=\"displacy-label\" startOffset=\"50%\" side=\"left\" fill=\"currentColor\" text-anchor=\"middle\">prep</textPath>\n",
       "    </text>\n",
       "    <path class=\"displacy-arrowhead\" d=\"M1235.0,404.0 L1243.0,392.0 1227.0,392.0\" fill=\"currentColor\"/>\n",
       "</g>\n",
       "\n",
       "<g class=\"displacy-arrow\">\n",
       "    <path class=\"displacy-arc\" id=\"arrow-c2bcf4bdb55b4425815d5688f3551e70-0-12\" stroke-width=\"2px\" d=\"M1270,402.0 C1270,352.0 1315.0,352.0 1315.0,402.0\" fill=\"none\" stroke=\"currentColor\"/>\n",
       "    <text dy=\"1.25em\" style=\"font-size: 0.8em; letter-spacing: 1px\">\n",
       "        <textPath xlink:href=\"#arrow-c2bcf4bdb55b4425815d5688f3551e70-0-12\" class=\"displacy-label\" startOffset=\"50%\" side=\"left\" fill=\"currentColor\" text-anchor=\"middle\">pcomp</textPath>\n",
       "    </text>\n",
       "    <path class=\"displacy-arrowhead\" d=\"M1315.0,404.0 L1323.0,392.0 1307.0,392.0\" fill=\"currentColor\"/>\n",
       "</g>\n",
       "\n",
       "<g class=\"displacy-arrow\">\n",
       "    <path class=\"displacy-arc\" id=\"arrow-c2bcf4bdb55b4425815d5688f3551e70-0-13\" stroke-width=\"2px\" d=\"M1470,402.0 C1470,352.0 1515.0,352.0 1515.0,402.0\" fill=\"none\" stroke=\"currentColor\"/>\n",
       "    <text dy=\"1.25em\" style=\"font-size: 0.8em; letter-spacing: 1px\">\n",
       "        <textPath xlink:href=\"#arrow-c2bcf4bdb55b4425815d5688f3551e70-0-13\" class=\"displacy-label\" startOffset=\"50%\" side=\"left\" fill=\"currentColor\" text-anchor=\"middle\">poss</textPath>\n",
       "    </text>\n",
       "    <path class=\"displacy-arrowhead\" d=\"M1470,404.0 L1462,392.0 1478,392.0\" fill=\"currentColor\"/>\n",
       "</g>\n",
       "\n",
       "<g class=\"displacy-arrow\">\n",
       "    <path class=\"displacy-arc\" id=\"arrow-c2bcf4bdb55b4425815d5688f3551e70-0-14\" stroke-width=\"2px\" d=\"M1370,402.0 C1370,302.0 1520.0,302.0 1520.0,402.0\" fill=\"none\" stroke=\"currentColor\"/>\n",
       "    <text dy=\"1.25em\" style=\"font-size: 0.8em; letter-spacing: 1px\">\n",
       "        <textPath xlink:href=\"#arrow-c2bcf4bdb55b4425815d5688f3551e70-0-14\" class=\"displacy-label\" startOffset=\"50%\" side=\"left\" fill=\"currentColor\" text-anchor=\"middle\">dobj</textPath>\n",
       "    </text>\n",
       "    <path class=\"displacy-arrowhead\" d=\"M1520.0,404.0 L1528.0,392.0 1512.0,392.0\" fill=\"currentColor\"/>\n",
       "</g>\n",
       "\n",
       "<g class=\"displacy-arrow\">\n",
       "    <path class=\"displacy-arc\" id=\"arrow-c2bcf4bdb55b4425815d5688f3551e70-0-15\" stroke-width=\"2px\" d=\"M1570,402.0 C1570,352.0 1615.0,352.0 1615.0,402.0\" fill=\"none\" stroke=\"currentColor\"/>\n",
       "    <text dy=\"1.25em\" style=\"font-size: 0.8em; letter-spacing: 1px\">\n",
       "        <textPath xlink:href=\"#arrow-c2bcf4bdb55b4425815d5688f3551e70-0-15\" class=\"displacy-label\" startOffset=\"50%\" side=\"left\" fill=\"currentColor\" text-anchor=\"middle\">prep</textPath>\n",
       "    </text>\n",
       "    <path class=\"displacy-arrowhead\" d=\"M1615.0,404.0 L1623.0,392.0 1607.0,392.0\" fill=\"currentColor\"/>\n",
       "</g>\n",
       "\n",
       "<g class=\"displacy-arrow\">\n",
       "    <path class=\"displacy-arc\" id=\"arrow-c2bcf4bdb55b4425815d5688f3551e70-0-16\" stroke-width=\"2px\" d=\"M1770,402.0 C1770,302.0 2020.0,302.0 2020.0,402.0\" fill=\"none\" stroke=\"currentColor\"/>\n",
       "    <text dy=\"1.25em\" style=\"font-size: 0.8em; letter-spacing: 1px\">\n",
       "        <textPath xlink:href=\"#arrow-c2bcf4bdb55b4425815d5688f3551e70-0-16\" class=\"displacy-label\" startOffset=\"50%\" side=\"left\" fill=\"currentColor\" text-anchor=\"middle\">det</textPath>\n",
       "    </text>\n",
       "    <path class=\"displacy-arrowhead\" d=\"M1770,404.0 L1762,392.0 1778,392.0\" fill=\"currentColor\"/>\n",
       "</g>\n",
       "\n",
       "<g class=\"displacy-arrow\">\n",
       "    <path class=\"displacy-arc\" id=\"arrow-c2bcf4bdb55b4425815d5688f3551e70-0-17\" stroke-width=\"2px\" d=\"M1870,402.0 C1870,352.0 1915.0,352.0 1915.0,402.0\" fill=\"none\" stroke=\"currentColor\"/>\n",
       "    <text dy=\"1.25em\" style=\"font-size: 0.8em; letter-spacing: 1px\">\n",
       "        <textPath xlink:href=\"#arrow-c2bcf4bdb55b4425815d5688f3551e70-0-17\" class=\"displacy-label\" startOffset=\"50%\" side=\"left\" fill=\"currentColor\" text-anchor=\"middle\">amod</textPath>\n",
       "    </text>\n",
       "    <path class=\"displacy-arrowhead\" d=\"M1870,404.0 L1862,392.0 1878,392.0\" fill=\"currentColor\"/>\n",
       "</g>\n",
       "\n",
       "<g class=\"displacy-arrow\">\n",
       "    <path class=\"displacy-arc\" id=\"arrow-c2bcf4bdb55b4425815d5688f3551e70-0-18\" stroke-width=\"2px\" d=\"M1970,402.0 C1970,352.0 2015.0,352.0 2015.0,402.0\" fill=\"none\" stroke=\"currentColor\"/>\n",
       "    <text dy=\"1.25em\" style=\"font-size: 0.8em; letter-spacing: 1px\">\n",
       "        <textPath xlink:href=\"#arrow-c2bcf4bdb55b4425815d5688f3551e70-0-18\" class=\"displacy-label\" startOffset=\"50%\" side=\"left\" fill=\"currentColor\" text-anchor=\"middle\">compound</textPath>\n",
       "    </text>\n",
       "    <path class=\"displacy-arrowhead\" d=\"M1970,404.0 L1962,392.0 1978,392.0\" fill=\"currentColor\"/>\n",
       "</g>\n",
       "\n",
       "<g class=\"displacy-arrow\">\n",
       "    <path class=\"displacy-arc\" id=\"arrow-c2bcf4bdb55b4425815d5688f3551e70-0-19\" stroke-width=\"2px\" d=\"M1670,402.0 C1670,252.0 2025.0,252.0 2025.0,402.0\" fill=\"none\" stroke=\"currentColor\"/>\n",
       "    <text dy=\"1.25em\" style=\"font-size: 0.8em; letter-spacing: 1px\">\n",
       "        <textPath xlink:href=\"#arrow-c2bcf4bdb55b4425815d5688f3551e70-0-19\" class=\"displacy-label\" startOffset=\"50%\" side=\"left\" fill=\"currentColor\" text-anchor=\"middle\">pobj</textPath>\n",
       "    </text>\n",
       "    <path class=\"displacy-arrowhead\" d=\"M2025.0,404.0 L2033.0,392.0 2017.0,392.0\" fill=\"currentColor\"/>\n",
       "</g>\n",
       "\n",
       "<g class=\"displacy-arrow\">\n",
       "    <path class=\"displacy-arc\" id=\"arrow-c2bcf4bdb55b4425815d5688f3551e70-0-20\" stroke-width=\"2px\" d=\"M370,402.0 C370,102.0 2140.0,102.0 2140.0,402.0\" fill=\"none\" stroke=\"currentColor\"/>\n",
       "    <text dy=\"1.25em\" style=\"font-size: 0.8em; letter-spacing: 1px\">\n",
       "        <textPath xlink:href=\"#arrow-c2bcf4bdb55b4425815d5688f3551e70-0-20\" class=\"displacy-label\" startOffset=\"50%\" side=\"left\" fill=\"currentColor\" text-anchor=\"middle\">cc</textPath>\n",
       "    </text>\n",
       "    <path class=\"displacy-arrowhead\" d=\"M2140.0,404.0 L2148.0,392.0 2132.0,392.0\" fill=\"currentColor\"/>\n",
       "</g>\n",
       "\n",
       "<g class=\"displacy-arrow\">\n",
       "    <path class=\"displacy-arc\" id=\"arrow-c2bcf4bdb55b4425815d5688f3551e70-0-21\" stroke-width=\"2px\" d=\"M370,402.0 C370,52.0 2245.0,52.0 2245.0,402.0\" fill=\"none\" stroke=\"currentColor\"/>\n",
       "    <text dy=\"1.25em\" style=\"font-size: 0.8em; letter-spacing: 1px\">\n",
       "        <textPath xlink:href=\"#arrow-c2bcf4bdb55b4425815d5688f3551e70-0-21\" class=\"displacy-label\" startOffset=\"50%\" side=\"left\" fill=\"currentColor\" text-anchor=\"middle\">conj</textPath>\n",
       "    </text>\n",
       "    <path class=\"displacy-arrowhead\" d=\"M2245.0,404.0 L2253.0,392.0 2237.0,392.0\" fill=\"currentColor\"/>\n",
       "</g>\n",
       "\n",
       "<g class=\"displacy-arrow\">\n",
       "    <path class=\"displacy-arc\" id=\"arrow-c2bcf4bdb55b4425815d5688f3551e70-0-22\" stroke-width=\"2px\" d=\"M2370,402.0 C2370,352.0 2415.0,352.0 2415.0,402.0\" fill=\"none\" stroke=\"currentColor\"/>\n",
       "    <text dy=\"1.25em\" style=\"font-size: 0.8em; letter-spacing: 1px\">\n",
       "        <textPath xlink:href=\"#arrow-c2bcf4bdb55b4425815d5688f3551e70-0-22\" class=\"displacy-label\" startOffset=\"50%\" side=\"left\" fill=\"currentColor\" text-anchor=\"middle\">det</textPath>\n",
       "    </text>\n",
       "    <path class=\"displacy-arrowhead\" d=\"M2370,404.0 L2362,392.0 2378,392.0\" fill=\"currentColor\"/>\n",
       "</g>\n",
       "\n",
       "<g class=\"displacy-arrow\">\n",
       "    <path class=\"displacy-arc\" id=\"arrow-c2bcf4bdb55b4425815d5688f3551e70-0-23\" stroke-width=\"2px\" d=\"M2270,402.0 C2270,302.0 2420.0,302.0 2420.0,402.0\" fill=\"none\" stroke=\"currentColor\"/>\n",
       "    <text dy=\"1.25em\" style=\"font-size: 0.8em; letter-spacing: 1px\">\n",
       "        <textPath xlink:href=\"#arrow-c2bcf4bdb55b4425815d5688f3551e70-0-23\" class=\"displacy-label\" startOffset=\"50%\" side=\"left\" fill=\"currentColor\" text-anchor=\"middle\">dobj</textPath>\n",
       "    </text>\n",
       "    <path class=\"displacy-arrowhead\" d=\"M2420.0,404.0 L2428.0,392.0 2412.0,392.0\" fill=\"currentColor\"/>\n",
       "</g>\n",
       "\n",
       "<g class=\"displacy-arrow\">\n",
       "    <path class=\"displacy-arc\" id=\"arrow-c2bcf4bdb55b4425815d5688f3551e70-0-24\" stroke-width=\"2px\" d=\"M2570,402.0 C2570,352.0 2615.0,352.0 2615.0,402.0\" fill=\"none\" stroke=\"currentColor\"/>\n",
       "    <text dy=\"1.25em\" style=\"font-size: 0.8em; letter-spacing: 1px\">\n",
       "        <textPath xlink:href=\"#arrow-c2bcf4bdb55b4425815d5688f3551e70-0-24\" class=\"displacy-label\" startOffset=\"50%\" side=\"left\" fill=\"currentColor\" text-anchor=\"middle\">aux</textPath>\n",
       "    </text>\n",
       "    <path class=\"displacy-arrowhead\" d=\"M2570,404.0 L2562,392.0 2578,392.0\" fill=\"currentColor\"/>\n",
       "</g>\n",
       "\n",
       "<g class=\"displacy-arrow\">\n",
       "    <path class=\"displacy-arc\" id=\"arrow-c2bcf4bdb55b4425815d5688f3551e70-0-25\" stroke-width=\"2px\" d=\"M2270,402.0 C2270,252.0 2625.0,252.0 2625.0,402.0\" fill=\"none\" stroke=\"currentColor\"/>\n",
       "    <text dy=\"1.25em\" style=\"font-size: 0.8em; letter-spacing: 1px\">\n",
       "        <textPath xlink:href=\"#arrow-c2bcf4bdb55b4425815d5688f3551e70-0-25\" class=\"displacy-label\" startOffset=\"50%\" side=\"left\" fill=\"currentColor\" text-anchor=\"middle\">xcomp</textPath>\n",
       "    </text>\n",
       "    <path class=\"displacy-arrowhead\" d=\"M2625.0,404.0 L2633.0,392.0 2617.0,392.0\" fill=\"currentColor\"/>\n",
       "</g>\n",
       "\n",
       "<g class=\"displacy-arrow\">\n",
       "    <path class=\"displacy-arc\" id=\"arrow-c2bcf4bdb55b4425815d5688f3551e70-0-26\" stroke-width=\"2px\" d=\"M2770,402.0 C2770,352.0 2815.0,352.0 2815.0,402.0\" fill=\"none\" stroke=\"currentColor\"/>\n",
       "    <text dy=\"1.25em\" style=\"font-size: 0.8em; letter-spacing: 1px\">\n",
       "        <textPath xlink:href=\"#arrow-c2bcf4bdb55b4425815d5688f3551e70-0-26\" class=\"displacy-label\" startOffset=\"50%\" side=\"left\" fill=\"currentColor\" text-anchor=\"middle\">poss</textPath>\n",
       "    </text>\n",
       "    <path class=\"displacy-arrowhead\" d=\"M2770,404.0 L2762,392.0 2778,392.0\" fill=\"currentColor\"/>\n",
       "</g>\n",
       "\n",
       "<g class=\"displacy-arrow\">\n",
       "    <path class=\"displacy-arc\" id=\"arrow-c2bcf4bdb55b4425815d5688f3551e70-0-27\" stroke-width=\"2px\" d=\"M2670,402.0 C2670,302.0 2820.0,302.0 2820.0,402.0\" fill=\"none\" stroke=\"currentColor\"/>\n",
       "    <text dy=\"1.25em\" style=\"font-size: 0.8em; letter-spacing: 1px\">\n",
       "        <textPath xlink:href=\"#arrow-c2bcf4bdb55b4425815d5688f3551e70-0-27\" class=\"displacy-label\" startOffset=\"50%\" side=\"left\" fill=\"currentColor\" text-anchor=\"middle\">dobj</textPath>\n",
       "    </text>\n",
       "    <path class=\"displacy-arrowhead\" d=\"M2820.0,404.0 L2828.0,392.0 2812.0,392.0\" fill=\"currentColor\"/>\n",
       "</g>\n",
       "\n",
       "<g class=\"displacy-arrow\">\n",
       "    <path class=\"displacy-arc\" id=\"arrow-c2bcf4bdb55b4425815d5688f3551e70-0-28\" stroke-width=\"2px\" d=\"M370,402.0 C370,2.0 2950.0,2.0 2950.0,402.0\" fill=\"none\" stroke=\"currentColor\"/>\n",
       "    <text dy=\"1.25em\" style=\"font-size: 0.8em; letter-spacing: 1px\">\n",
       "        <textPath xlink:href=\"#arrow-c2bcf4bdb55b4425815d5688f3551e70-0-28\" class=\"displacy-label\" startOffset=\"50%\" side=\"left\" fill=\"currentColor\" text-anchor=\"middle\">punct</textPath>\n",
       "    </text>\n",
       "    <path class=\"displacy-arrowhead\" d=\"M2950.0,404.0 L2958.0,392.0 2942.0,392.0\" fill=\"currentColor\"/>\n",
       "</g>\n",
       "</svg></span>"
      ],
      "text/plain": [
       "<IPython.core.display.HTML object>"
      ]
     },
     "metadata": {},
     "output_type": "display_data"
    }
   ],
   "source": [
    "displacy.render(doc, style=\"dep\", jupyter=True, options = {'distance':100})"
   ]
  },
  {
   "cell_type": "markdown",
   "id": "e1dfac8b",
   "metadata": {},
   "source": [
    "# Applied NLP\n",
    "\n",
    "Sentiment analysis, summarization, text classification, automatic text generation, machine translation, etc. are used widely within industry and are also active reseach topics.  \n",
    "\n",
    "Let's see a few applications of NLP in action.\n",
    "\n",
    "\n",
    "## Sentiment Analysis\n",
    "\n",
    "Sentiment Analysis is the process of determining the viewpoints, judgements, feelings and opinions about any topic, service, brand name, etc. entity.\n",
    "\n",
    "NLTK has a built-in, pretrained analyzer called VADER (Valence Aware Dictionary and sEntiment Reasoner). It is a good place to start but keep in mind that it has been trained on data from social media and may not work well for longer structured sentences (e.g. legal text).\n",
    "\n",
    "Note,the negative, neutral, and positive scores are related: are all non-negative and add up to 1.\n",
    "\n",
    "Do you agree with the VADER scores assigned to these sentences?\n"
   ]
  },
  {
   "cell_type": "code",
   "execution_count": 168,
   "id": "cacb4af4",
   "metadata": {
    "scrolled": true
   },
   "outputs": [
    {
     "data": {
      "text/plain": [
       "[{'neg': 0.0, 'neu': 0.564, 'pos': 0.436, 'compound': 0.4753},\n",
       " {'neg': 0.589, 'neu': 0.411, 'pos': 0.0, 'compound': -0.5096},\n",
       " {'neg': 0.508, 'neu': 0.492, 'pos': 0.0, 'compound': -0.4767},\n",
       " {'neg': 0.0, 'neu': 0.27, 'pos': 0.73, 'compound': 0.4023},\n",
       " {'neg': 0.231, 'neu': 0.375, 'pos': 0.394, 'compound': 0.3839}]"
      ]
     },
     "execution_count": 168,
     "metadata": {},
     "output_type": "execute_result"
    }
   ],
   "source": [
    "from nltk.sentiment import SentimentIntensityAnalyzer\n",
    "\n",
    "sa = SentimentIntensityAnalyzer()\n",
    "\n",
    "sents = [\"Ah, Data Science is powerful!\", \n",
    "         \"Not sure I liked it much\", \n",
    "         \"People will be disappointed\",\n",
    "         \"Not a disappointment\",\n",
    "         \"Love it or hate it, imho can't ignore it\"]\n",
    "\n",
    "sas = [sa.polarity_scores(s) for s in sents]\n",
    "\n",
    "sas"
   ]
  },
  {
   "cell_type": "markdown",
   "id": "75e13562",
   "metadata": {},
   "source": [
    "## Text Summarization\n",
    "\n",
    "Text Summarization helps in summarizing and shortening the input text. e.g. user feedback/review.\n",
    "\n",
    "In **Extractive Summarization**, we are identifying important phrases or sentences from the original text. These extracted sentences would be the summary. A more sophisticated technique, **Abstractive Summarization**, involves paraphrasing the corpus using novel sentences.\n",
    "\n",
    "https://www.sciencedaily.com/releases/2021/08/210811162816.htm"
   ]
  },
  {
   "cell_type": "markdown",
   "id": "d994b88f",
   "metadata": {},
   "source": [
    "Word frequency is an important concept for this type of summarization. In a nutshell, sentences are scored by the sum of the frequences of their words. Sentences with the highest scores are selected for the summary.\n",
    "\n",
    "Let's define a function to plot word frequencies."
   ]
  },
  {
   "cell_type": "code",
   "execution_count": 169,
   "id": "4bc3875a",
   "metadata": {},
   "outputs": [
    {
     "data": {
      "image/png": "[encoded data removed]",
      "text/plain": [
       "<Figure size 432x288 with 1 Axes>"
      ]
     },
     "metadata": {
      "needs_background": "light"
     },
     "output_type": "display_data"
    },
    {
     "data": {
      "text/plain": [
       "FreqDist({'warming': 22, '\\n\\n': 20, 'events': 16, 'earth': 14, 'extreme': 11, 'years': 9, 'climate': 9, 'temperature': 9, 'study': 8, 'changes': 8, ...})"
      ]
     },
     "execution_count": 169,
     "metadata": {},
     "output_type": "execute_result"
    }
   ],
   "source": [
    "import spacy\n",
    "from spacy.lang.en.stop_words import STOP_WORDS\n",
    "from string import punctuation\n",
    "from nltk import FreqDist\n",
    "\n",
    "def plotFreqDist(text : str, topN : int = 0) -> None:\n",
    "    \n",
    "    nlp = spacy.load('en_core_web_sm')\n",
    "    \n",
    "    doc = nlp(text)\n",
    "    \n",
    "    fd = FreqDist([word.text.lower() for word in doc if word.text.lower() not in list(STOP_WORDS) and word.text not in punctuation])\n",
    "  \n",
    "    if (topN > 0) :\n",
    "        fd.plot(topN)\n",
    "    else:\n",
    "        fd.plot()\n",
    "    \n",
    "    return fd\n",
    "\n",
    "plotFreqDist(text, 16)"
   ]
  },
  {
   "cell_type": "markdown",
   "id": "6aea8cd9",
   "metadata": {},
   "source": [
    "Now we define a function for Extractive Summarization. \n"
   ]
  },
  {
   "cell_type": "code",
   "execution_count": 170,
   "id": "e99fc9bf",
   "metadata": {},
   "outputs": [],
   "source": [
    "from heapq import nlargest\n",
    "    \n",
    "def summarize(text : str, percent : float) -> str:\n",
    "    nlp = spacy.load('en_core_web_sm')\n",
    "    \n",
    "    doc = nlp(text)\n",
    "    \n",
    "    fd = FreqDist([word.text.lower() for word in doc if word.text.lower() not in list(STOP_WORDS) and word.text not in punctuation])\n",
    "    \n",
    "    # weighted word freq\n",
    "    max_frequency=max(fd.values())\n",
    "    for word in fd.keys():\n",
    "        fd[word] = fd[word] / max_frequency\n",
    "    \n",
    "    # score sentences\n",
    "    sentence_tokens= [sent for sent in doc.sents]\n",
    "    sentence_scores = {}\n",
    "    for sent in sentence_tokens:\n",
    "        for word in sent:\n",
    "            lowerWord = word.text.lower()\n",
    "            if lowerWord in fd.keys():\n",
    "                if sent not in sentence_scores.keys():                            \n",
    "                    sentence_scores[sent]=fd[lowerWord]\n",
    "                else:\n",
    "                    sentence_scores[sent]+=fd[lowerWord]\n",
    "    \n",
    "    # compute numner of sentences to select\n",
    "    select_count = int(len(sentence_tokens) * percent)\n",
    "    \n",
    "    # select n highest score sentences\n",
    "    summary = nlargest(select_count, sentence_scores, key = sentence_scores.get)\n",
    "    \n",
    "    # extract text\n",
    "    summary_text = [sent.text for sent in summary]\n",
    "    \n",
    "    summary=' '.join(summary_text)\n",
    "    return summary"
   ]
  },
  {
   "cell_type": "code",
   "execution_count": 171,
   "id": "6e822c07",
   "metadata": {},
   "outputs": [
    {
     "data": {
      "text/plain": [
       "'The researchers say a possible explanation for this warming bias may lie in a \"multiplier effect,\" whereby a modest degree of warming -- for instance from volcanoes releasing carbon dioxide into the atmosphere -- naturally speeds up certain biological and chemical processes that enhance these fluctuations, leading, on average, to still more warming. So, Arnscheidt and Rothman incorporated the Earth\\'s orbital changes into the multiplicative model and their analysis of Earth\\'s temperature changes, and found that multiplier effects could predictably amplify, on average, the modest temperature rises due to changes in Earth\\'s orbit.'"
      ]
     },
     "execution_count": 171,
     "metadata": {},
     "output_type": "execute_result"
    }
   ],
   "source": [
    "text = \"\"\"\n",
    "It is increasingly clear that the prolonged drought conditions, record-breaking heat, sustained wildfires, and frequent, more extreme storms experienced in recent years are a direct result of rising global temperatures brought on by humans' addition of carbon dioxide to the atmosphere. And a new MIT study on extreme climate events in Earth's ancient history suggests that today's planet may become more volatile as it continues to warm.\n",
    "\n",
    "The study, appearing today in Science Advances, examines the paleoclimate record of the last 66 million years, during the Cenozoic era, which began shortly after the extinction of the dinosaurs. The scientists found that during this period, fluctuations in the Earth's climate experienced a surprising \"warming bias.\" In other words, there were far more warming events -- periods of prolonged global warming, lasting thousands to tens of thousands of years -- than cooling events. What's more, warming events tended to be more extreme, with greater shifts in temperature, than cooling events.\n",
    "\n",
    "The researchers say a possible explanation for this warming bias may lie in a \"multiplier effect,\" whereby a modest degree of warming -- for instance from volcanoes releasing carbon dioxide into the atmosphere -- naturally speeds up certain biological and chemical processes that enhance these fluctuations, leading, on average, to still more warming.\n",
    "\n",
    "Interestingly, the team observed that this warming bias disappeared about 5 million years ago, around the time when ice sheets started forming in the Northern Hemisphere. It's unclear what effect the ice has had on the Earth's response to climate shifts. But as today's Arctic ice recedes, the new study suggests that a multiplier effect may kick back in, and the result may be a further amplification of human-induced global warming.\n",
    "\n",
    "\"The Northern Hemisphere's ice sheets are shrinking, and could potentially disappear as a long-term consequence of human actions\" says the study's lead author Constantin Arnscheidt, a graduate student in MIT's Department of Earth, Atmospheric and Planetary Sciences. \"Our research suggests that this may make the Earth's climate fundamentally more susceptible to extreme, long-term global warming events such as those seen in the geologic past.\"\n",
    "\n",
    "Arnscheidt's study co-author is Daniel Rothman, professor of geophysics at MIT, and co-founder and co-director of MIT's Lorenz Center.\n",
    "\n",
    "A volatile push\n",
    "\n",
    "For their analysis, the team consulted large databases of sediments containing deep-sea benthic foraminifera -- single-celled organisms that have been around for hundreds of millions of years and whose hard shells are preserved in sediments. The composition of these shells is affected by the ocean temperatures as organisms are growing; the shells are therefore considered a reliable proxy for the Earth's ancient temperatures.\n",
    "\n",
    "For decades, scientists have analyzed the composition of these shells, collected from all over the world and dated to various time periods, to track how the Earth's temperature has fluctuated over millions of years.\n",
    "\n",
    "\"When using these data to study extreme climate events, most studies have focused on individual large spikes in temperature, typically of a few degrees Celsius warming,\" Arnscheidt says. \"Instead, we tried to look at the overall statistics and consider all the fluctuations involved, rather than picking out the big ones.\"\n",
    "\n",
    "The team first carried out a statistical analysis of the data and observed that, over the last 66 million years, the distribution of global temperature fluctuations didn't resemble a standard bell curve, with symmetric tails representing an equal probability of extreme warm and extreme cool fluctuations. Instead, the curve was noticeably lopsided, skewed toward more warm than cool events. The curve also exhibited a noticeably longer tail, representing warm events that were more extreme, or of higher temperature, than the most extreme cold events.\n",
    "\n",
    "\"This indicates there's some sort of amplification relative to what you would otherwise have expected,\" Arnscheidt says. \"Everything's pointing to something fundamental that's causing this push, or bias toward warming events.\"\n",
    "\n",
    "\"It's fair to say that the Earth system becomes more volatile, in a warming sense,\" Rothman adds.\n",
    "\n",
    "A warming multiplier\n",
    "\n",
    "The team wondered whether this warming bias might have been a result of \"multiplicative noise\" in the climate-carbon cycle. Scientists have long understood that higher temperatures, up to a point, tend to speed up biological and chemical processes. Because the carbon cycle, which is a key driver of long-term climate fluctuations, is itself composed of such processes, increases in temperature may lead to larger fluctuations, biasing the system towards extreme warming events.\n",
    "\n",
    "In mathematics, there exists a set of equations that describes such general amplifying, or multiplicative effects. The researchers applied this multiplicative theory to their analysis to see whether the equations could predict the asymmetrical distribution, including the degree of its skew and the length of its tails.\n",
    "\n",
    "In the end, they found that the data, and the observed bias toward warming, could be explained by the multiplicative theory. In other words, it's very likely that, over the last 66 million years, periods of modest warming were on average further enhanced by multiplier effects, such as the response of biological and chemical processes that further warmed the planet.\n",
    "\n",
    "As part of the study, the researchers also looked at the correlation between past warming events and changes in Earth's orbit. Over hundreds of thousands of years, Earth's orbit around the sun regularly becomes more or less elliptical. But scientists have wondered why many past warming events appeared to coincide with these changes, and why these events feature outsized warming compared with what the change in Earth's orbit could have wrought on its own.\n",
    "\n",
    "So, Arnscheidt and Rothman incorporated the Earth's orbital changes into the multiplicative model and their analysis of Earth's temperature changes, and found that multiplier effects could predictably amplify, on average, the modest temperature rises due to changes in Earth's orbit.\n",
    "\n",
    "\"Climate warms and cools in synchrony with orbital changes, but the orbital cycles themselves would predict only modest changes in climate,\" Rothman says. \"But if we consider a multiplicative model, then modest warming, paired with this multiplier effect, can result in extreme events that tend to occur at the same time as these orbital changes.\"\n",
    "\n",
    "\"Humans are forcing the system in a new way,\" Arnscheidt adds. \"And this study is showing that, when we increase temperature, we're likely going to interact with these natural, amplifying effects.\"\n",
    "\"\"\"\n",
    "\n",
    "summarize(text, 0.05)"
   ]
  },
  {
   "cell_type": "markdown",
   "id": "35e8657f",
   "metadata": {},
   "source": [
    "Do you agree that the summary looks quite good? What drawbacks do you see with the Extractive Summary approach? \n",
    "\n",
    "Let's illustrate one drawback of the approach - repetition trumps all (pun intended)."
   ]
  },
  {
   "cell_type": "code",
   "execution_count": 177,
   "id": "835103ce",
   "metadata": {},
   "outputs": [
    {
     "data": {
      "text/plain": [
       "'So, Arnscheidt and Rothman incorporated the Earth\\'s orbital changes into the multiplicative model and their analysis of Earth\\'s temperature changes, and found that multiplier effects could predictably amplify, on average, the modest temperature rises due to changes in Earth\\'s orbit. The researchers say a possible explanation for this warming bias may lie in a \"multiplier effect,\" whereby a modest degree of warming -- for instance from volcanoes releasing carbon dioxide into the atmosphere -- naturally speeds up certain biological and chemical processes that enhance these fluctuations, leading, on average, to still more warming. \\n\\n\"It\\'s fair to say that the Earth system becomes more volatile, in a warming sense,\" Rothman adds.'"
      ]
     },
     "execution_count": 177,
     "metadata": {},
     "output_type": "execute_result"
    }
   ],
   "source": [
    "text2 = \"\"\"\n",
    "It is increasingly clear that the prolonged drought conditions, record-breaking heat, sustained wildfires, and frequent, more extreme storms experienced in recent years are a direct result of rising global temperatures brought on by humans' addition of carbon dioxide to the atmosphere. And a new MIT study on extreme climate events in Earth's ancient history suggests that today's planet may become more volatile as it continues to warm.\n",
    "\n",
    "The study, appearing today in Science Advances, examines the paleoclimate record of the last 66 million years, during the Cenozoic era, which began shortly after the extinction of the dinosaurs. The scientists found that during this period, fluctuations in the Earth's climate experienced a surprising \"warming bias.\" In other words, there were far more warming events -- periods of prolonged global warming, lasting thousands to tens of thousands of years -- than cooling events. What's more, warming events tended to be more extreme, with greater shifts in temperature, than cooling events.\n",
    "\n",
    "The researchers say a possible explanation for this warming bias may lie in a \"multiplier effect,\" whereby a modest degree of warming -- for instance from volcanoes releasing carbon dioxide into the atmosphere -- naturally speeds up certain biological and chemical processes that enhance these fluctuations, leading, on average, to still more warming.\n",
    "\n",
    "Interestingly, the team observed that this warming bias disappeared about 5 million years ago, around the time when ice sheets started forming in the Northern Hemisphere. It's unclear what effect the ice has had on the Earth's response to climate shifts. But as today's Arctic ice recedes, the new study suggests that a multiplier effect may kick back in, and the result may be a further amplification of human-induced global warming.\n",
    "\n",
    "\"The Northern Hemisphere's ice sheets are shrinking, and could potentially disappear as a long-term consequence of human actions\" says the study's lead author Constantin Arnscheidt, a graduate student in MIT's Department of Earth, Atmospheric and Planetary Sciences. \"Our research suggests that this may make the Earth's climate fundamentally more susceptible to extreme, long-term global warming events such as those seen in the geologic past.\"\n",
    "\n",
    "Arnscheidt's study co-author is Daniel Rothman, professor of geophysics at MIT, and co-founder and co-director of MIT's Lorenz Center.\n",
    "\n",
    "A volatile push\n",
    "\n",
    "For their analysis, the team consulted large databases of sediments containing deep-sea benthic foraminifera -- single-celled organisms that have been around for hundreds of millions of years and whose hard shells are preserved in sediments. The composition of these shells is affected by the ocean temperatures as organisms are growing; the shells are therefore considered a reliable proxy for the Earth's ancient temperatures.\n",
    "\n",
    "For decades, scientists have analyzed the composition of these shells, collected from all over the world and dated to various time periods, to track how the Earth's temperature has fluctuated over millions of years.\n",
    "\n",
    "\"When using these data to study extreme climate events, most studies have focused on individual large spikes in temperature, typically of a few degrees Celsius warming,\" Arnscheidt says. \"Instead, we tried to look at the overall statistics and consider all the fluctuations involved, rather than picking out the big ones.\"\n",
    "\n",
    "The team first carried out a statistical analysis of the data and observed that, over the last 66 million years, the distribution of global temperature fluctuations didn't resemble a standard bell curve, with symmetric tails representing an equal probability of extreme warm and extreme cool fluctuations. Instead, the curve was noticeably lopsided, skewed toward more warm than cool events. The curve also exhibited a noticeably longer tail, representing warm events that were more extreme, or of higher temperature, than the most extreme cold events.\n",
    "\n",
    "\"This indicates there's some sort of amplification relative to what you would otherwise have expected,\" Arnscheidt says. \"Everything's pointing to something fundamental that's causing this push, or bias toward warming events.\"\n",
    "\n",
    "\"It's fair to say that the Earth system becomes more volatile, in a warming sense,\" Rothman adds.\n",
    "\"It's fair to say that the Earth system becomes more volatile, in a warming sense,\" Rothman adds.\n",
    "\"It's fair to say that the Earth system becomes more volatile, in a warming sense,\" Rothman adds.\n",
    "\"It's fair to say that the Earth system becomes more volatile, in a warming sense,\" Rothman adds.\n",
    "\"It's fair to say that the Earth system becomes more volatile, in a warming sense,\" Rothman adds.\n",
    "\"It's fair to say that the Earth system becomes more volatile, in a warming sense,\" Rothman adds.\n",
    "\"It's fair to say that the Earth system becomes more volatile, in a warming sense,\" Rothman adds.\n",
    "\"It's fair to say that the Earth system becomes more volatile, in a warming sense,\" Rothman adds.\n",
    "\"It's fair to say that the Earth system becomes more volatile, in a warming sense,\" Rothman adds.\n",
    "\"It's fair to say that the Earth system becomes more volatile, in a warming sense,\" Rothman adds.\n",
    "\"It's fair to say that the Earth system becomes more volatile, in a warming sense,\" Rothman adds.\n",
    "\"It's fair to say that the Earth system becomes more volatile, in a warming sense,\" Rothman adds.\n",
    "\n",
    "A warming multiplier\n",
    "\n",
    "The team wondered whether this warming bias might have been a result of \"multiplicative noise\" in the climate-carbon cycle. Scientists have long understood that higher temperatures, up to a point, tend to speed up biological and chemical processes. Because the carbon cycle, which is a key driver of long-term climate fluctuations, is itself composed of such processes, increases in temperature may lead to larger fluctuations, biasing the system towards extreme warming events.\n",
    "\n",
    "In mathematics, there exists a set of equations that describes such general amplifying, or multiplicative effects. The researchers applied this multiplicative theory to their analysis to see whether the equations could predict the asymmetrical distribution, including the degree of its skew and the length of its tails.\n",
    "\n",
    "In the end, they found that the data, and the observed bias toward warming, could be explained by the multiplicative theory. In other words, it's very likely that, over the last 66 million years, periods of modest warming were on average further enhanced by multiplier effects, such as the response of biological and chemical processes that further warmed the planet.\n",
    "\n",
    "As part of the study, the researchers also looked at the correlation between past warming events and changes in Earth's orbit. Over hundreds of thousands of years, Earth's orbit around the sun regularly becomes more or less elliptical. But scientists have wondered why many past warming events appeared to coincide with these changes, and why these events feature outsized warming compared with what the change in Earth's orbit could have wrought on its own.\n",
    "\n",
    "So, Arnscheidt and Rothman incorporated the Earth's orbital changes into the multiplicative model and their analysis of Earth's temperature changes, and found that multiplier effects could predictably amplify, on average, the modest temperature rises due to changes in Earth's orbit.\n",
    "\n",
    "\"Climate warms and cools in synchrony with orbital changes, but the orbital cycles themselves would predict only modest changes in climate,\" Rothman says. \"But if we consider a multiplicative model, then modest warming, paired with this multiplier effect, can result in extreme events that tend to occur at the same time as these orbital changes.\"\n",
    "\n",
    "\"Humans are forcing the system in a new way,\" Arnscheidt adds. \"And this study is showing that, when we increase temperature, we're likely going to interact with these natural, amplifying effects.\"\n",
    "\"\"\"\n",
    "\n",
    "summarize(text2, 0.05)"
   ]
  },
  {
   "cell_type": "markdown",
   "id": "bafb7073",
   "metadata": {},
   "source": [
    "# Word Embedding\n",
    "\n",
    "Word embedding in NLP is an important term that is used for representing words for text analysis in the form of real-valued vectors. It is considered one of the most significant breakthroughs of deep learning for solving challenging natural language processing problems. Each word is represented by a real-valued vector with tens or hundreds of dimensions.\n",
    "\n",
    "Spacy encodes each token as a 300 dimension vector.\n"
   ]
  },
  {
   "cell_type": "code",
   "execution_count": 196,
   "id": "c7eda846",
   "metadata": {},
   "outputs": [
    {
     "name": "stdout",
     "output_type": "stream",
     "text": [
      "The flight is late. <-> I like salty fries and hamburgers. 0.5306673848303783\n",
      "I like salty fries and hamburgers. <-> Fast food tastes very good. 0.7687607012190486\n",
      "King <-> Queen 0.7252610325813293\n",
      "Man <-> Woman 0.7401744723320007\n",
      "King <-> Man 0.4088461101055145\n",
      "King <-> Woman 0.2655659317970276\n"
     ]
    }
   ],
   "source": [
    "nlp = spacy.load('en_core_web_lg')       # contains 685K unique vectors\n",
    "\n",
    "doc0 = nlp(\"The flight is late.\")\n",
    "doc1 = nlp(\"I like salty fries and hamburgers.\")\n",
    "doc2 = nlp(\"Fast food tastes very good.\")\n",
    "\n",
    "doc3 = nlp(\"King and Queen.\")\n",
    "doc4 = nlp(\"Man and Woman\")\n",
    "\n",
    "# Similarity of two documents\n",
    "print(doc0, \"<->\", doc1, doc0.similarity(doc1))\n",
    "print(doc1, \"<->\", doc2, doc1.similarity(doc2))\n",
    "\n",
    "# Similarity of tokens and spans\n",
    "king = doc3[0:1]\n",
    "queen = doc3[2:3]\n",
    "print(king, \"<->\", queen, king.similarity(queen))\n",
    "\n",
    "man = doc4[0:1]\n",
    "woman = doc4[2:3]\n",
    "print(man, \"<->\", woman, man.similarity(woman))\n",
    "\n",
    "print(king, \"<->\", man, king.similarity(man))\n",
    "print(king, \"<->\", woman, king.similarity(woman))\n"
   ]
  },
  {
   "cell_type": "markdown",
   "id": "a8e7affb",
   "metadata": {},
   "source": [
    "# Conclusion\n",
    "\n",
    "This was a short tour of NLP and barely scratches the surface of this vast field. machine translation, sentiment analysis, classification, text summarization, automatic text generation, etc. are used widely within industry and are also active reseach topics.\n",
    "\n",
    "Note: unstructured data from one industry (e.g. Pharma) typically varies substantially from another (e.g. Finance). Training industry specific language deep learning models depends on the availability of high-quality data.  \n",
    "\n",
    "This is usually the biggest differentiator amongst service providers using NLP - the quantity and quality of data that has been cleaned and (hand) annotated by domain experts."
   ]
  }
 ],
 "metadata": {
  "kernelspec": {
   "display_name": "Python 3",
   "language": "python",
   "name": "python3"
  },
  "language_info": {
   "codemirror_mode": {
    "name": "ipython",
    "version": 3
   },
   "file_extension": ".py",
   "mimetype": "text/x-python",
   "name": "python",
   "nbconvert_exporter": "python",
   "pygments_lexer": "ipython3",
   "version": "3.9.1"
  }
 },
 "nbformat": 4,
 "nbformat_minor": 5
}
