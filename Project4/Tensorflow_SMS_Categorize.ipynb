{
  "nbformat": 4,
  "nbformat_minor": 0,
  "metadata": {
    "colab": {
      "provenance": [],
      "collapsed_sections": [],
      "authorship_tag": "ABX9TyPzup72FYy1x7iP3O2wuG6E",
      "include_colab_link": true
    },
    "kernelspec": {
      "name": "python3",
      "display_name": "Python 3"
    },
    "language_info": {
      "name": "python"
    }
  },
  "cells": [
    {
      "cell_type": "markdown",
      "metadata": {
        "id": "view-in-github",
        "colab_type": "text"
      },
      "source": [
        "<a href=\"https://colab.research.google.com/github/himalayahall/DATA607/blob/main/Tensorflow_SMS_Categorize.ipynb\" target=\"_parent\"><img src=\"https://colab.research.google.com/assets/colab-badge.svg\" alt=\"Open In Colab\"/></a>"
      ]
    },
    {
      "cell_type": "code",
      "execution_count": null,
      "metadata": {
        "id": "Sx98pQSBeFy8"
      },
      "outputs": [],
      "source": []
    },
    {
      "cell_type": "markdown",
      "source": [
        "# Data"
      ],
      "metadata": {
        "id": "JoM9Dp9aeIWH"
      }
    },
    {
      "cell_type": "markdown",
      "source": [
        "# Load libraries"
      ],
      "metadata": {
        "id": "FP0-_Gb02QJc"
      }
    },
    {
      "cell_type": "code",
      "source": [
        "import pandas as pd\n",
        "import numpy as np\n",
        "\n",
        "import tensorflow as tf\n",
        "import tensorflow_hub as hub\n",
        "\n",
        "from sklearn.model_selection import train_test_split\n",
        "\n",
        "import matplotlib.pyplot as plt\n",
        "\n",
        "print(\"Version: \", tf.__version__)\n",
        "print(\"Eager mode: \", tf.executing_eagerly())\n",
        "print(\"Hub version: \", hub.__version__)\n",
        "print(\"GPU is\", \"available\" if tf.config.list_physical_devices('GPU') else \"NOT AVAILABLE\")"
      ],
      "metadata": {
        "colab": {
          "base_uri": "https://localhost:8080/"
        },
        "id": "sIxJ90o8eM7k",
        "outputId": "1f7b1500-ba74-42ff-e64a-266e961f7905"
      },
      "execution_count": 1,
      "outputs": [
        {
          "output_type": "stream",
          "name": "stdout",
          "text": [
            "Version:  2.9.2\n",
            "Eager mode:  True\n",
            "Hub version:  0.12.0\n",
            "GPU is NOT AVAILABLE\n"
          ]
        }
      ]
    },
    {
      "cell_type": "code",
      "source": [
        "# Make numpy values easier to read.\n",
        "np.set_printoptions(precision=3, suppress=True)"
      ],
      "metadata": {
        "id": "PH-eRJrxjJVa"
      },
      "execution_count": 2,
      "outputs": []
    },
    {
      "cell_type": "markdown",
      "source": [
        "# Load data"
      ],
      "metadata": {
        "id": "tqP1QV_52VxV"
      }
    },
    {
      "cell_type": "code",
      "source": [
        "data_url = 'https://raw.githubusercontent.com/himalayahall/DATA607/main/Project4/SMSSpamCollection.txt'\n",
        "df = pd.read_csv(data_url, names=[\"category\", \"sms\"], skip_blank_lines=True, skiprows=1, delimiter='\\t')\n",
        "df.head()"
      ],
      "metadata": {
        "colab": {
          "base_uri": "https://localhost:8080/",
          "height": 204
        },
        "id": "KdHh68WOjMhw",
        "outputId": "33a76fea-05ea-49f6-edfc-21a003389908"
      },
      "execution_count": 3,
      "outputs": [
        {
          "output_type": "execute_result",
          "data": {
            "text/plain": [
              "  category                                                sms\n",
              "0      ham  Go until jurong point, crazy.. Available only ...\n",
              "1      ham                      Ok lar... Joking wif u oni...\n",
              "2     spam  Free entry in 2 a wkly comp to win FA Cup fina...\n",
              "3      ham  U dun say so early hor... U c already then say...\n",
              "4      ham  Nah I don't think he goes to usf, he lives aro..."
            ],
            "text/html": [
              "\n",
              "  <div id=\"df-3c911189-5388-43ea-86e4-6b525ac0dc1d\">\n",
              "    <div class=\"colab-df-container\">\n",
              "      <div>\n",
              "<style scoped>\n",
              "    .dataframe tbody tr th:only-of-type {\n",
              "        vertical-align: middle;\n",
              "    }\n",
              "\n",
              "    .dataframe tbody tr th {\n",
              "        vertical-align: top;\n",
              "    }\n",
              "\n",
              "    .dataframe thead th {\n",
              "        text-align: right;\n",
              "    }\n",
              "</style>\n",
              "<table border=\"1\" class=\"dataframe\">\n",
              "  <thead>\n",
              "    <tr style=\"text-align: right;\">\n",
              "      <th></th>\n",
              "      <th>category</th>\n",
              "      <th>sms</th>\n",
              "    </tr>\n",
              "  </thead>\n",
              "  <tbody>\n",
              "    <tr>\n",
              "      <th>0</th>\n",
              "      <td>ham</td>\n",
              "      <td>Go until jurong point, crazy.. Available only ...</td>\n",
              "    </tr>\n",
              "    <tr>\n",
              "      <th>1</th>\n",
              "      <td>ham</td>\n",
              "      <td>Ok lar... Joking wif u oni...</td>\n",
              "    </tr>\n",
              "    <tr>\n",
              "      <th>2</th>\n",
              "      <td>spam</td>\n",
              "      <td>Free entry in 2 a wkly comp to win FA Cup fina...</td>\n",
              "    </tr>\n",
              "    <tr>\n",
              "      <th>3</th>\n",
              "      <td>ham</td>\n",
              "      <td>U dun say so early hor... U c already then say...</td>\n",
              "    </tr>\n",
              "    <tr>\n",
              "      <th>4</th>\n",
              "      <td>ham</td>\n",
              "      <td>Nah I don't think he goes to usf, he lives aro...</td>\n",
              "    </tr>\n",
              "  </tbody>\n",
              "</table>\n",
              "</div>\n",
              "      <button class=\"colab-df-convert\" onclick=\"convertToInteractive('df-3c911189-5388-43ea-86e4-6b525ac0dc1d')\"\n",
              "              title=\"Convert this dataframe to an interactive table.\"\n",
              "              style=\"display:none;\">\n",
              "        \n",
              "  <svg xmlns=\"http://www.w3.org/2000/svg\" height=\"24px\"viewBox=\"0 0 24 24\"\n",
              "       width=\"24px\">\n",
              "    <path d=\"M0 0h24v24H0V0z\" fill=\"none\"/>\n",
              "    <path d=\"M18.56 5.44l.94 2.06.94-2.06 2.06-.94-2.06-.94-.94-2.06-.94 2.06-2.06.94zm-11 1L8.5 8.5l.94-2.06 2.06-.94-2.06-.94L8.5 2.5l-.94 2.06-2.06.94zm10 10l.94 2.06.94-2.06 2.06-.94-2.06-.94-.94-2.06-.94 2.06-2.06.94z\"/><path d=\"M17.41 7.96l-1.37-1.37c-.4-.4-.92-.59-1.43-.59-.52 0-1.04.2-1.43.59L10.3 9.45l-7.72 7.72c-.78.78-.78 2.05 0 2.83L4 21.41c.39.39.9.59 1.41.59.51 0 1.02-.2 1.41-.59l7.78-7.78 2.81-2.81c.8-.78.8-2.07 0-2.86zM5.41 20L4 18.59l7.72-7.72 1.47 1.35L5.41 20z\"/>\n",
              "  </svg>\n",
              "      </button>\n",
              "      \n",
              "  <style>\n",
              "    .colab-df-container {\n",
              "      display:flex;\n",
              "      flex-wrap:wrap;\n",
              "      gap: 12px;\n",
              "    }\n",
              "\n",
              "    .colab-df-convert {\n",
              "      background-color: #E8F0FE;\n",
              "      border: none;\n",
              "      border-radius: 50%;\n",
              "      cursor: pointer;\n",
              "      display: none;\n",
              "      fill: #1967D2;\n",
              "      height: 32px;\n",
              "      padding: 0 0 0 0;\n",
              "      width: 32px;\n",
              "    }\n",
              "\n",
              "    .colab-df-convert:hover {\n",
              "      background-color: #E2EBFA;\n",
              "      box-shadow: 0px 1px 2px rgba(60, 64, 67, 0.3), 0px 1px 3px 1px rgba(60, 64, 67, 0.15);\n",
              "      fill: #174EA6;\n",
              "    }\n",
              "\n",
              "    [theme=dark] .colab-df-convert {\n",
              "      background-color: #3B4455;\n",
              "      fill: #D2E3FC;\n",
              "    }\n",
              "\n",
              "    [theme=dark] .colab-df-convert:hover {\n",
              "      background-color: #434B5C;\n",
              "      box-shadow: 0px 1px 3px 1px rgba(0, 0, 0, 0.15);\n",
              "      filter: drop-shadow(0px 1px 2px rgba(0, 0, 0, 0.3));\n",
              "      fill: #FFFFFF;\n",
              "    }\n",
              "  </style>\n",
              "\n",
              "      <script>\n",
              "        const buttonEl =\n",
              "          document.querySelector('#df-3c911189-5388-43ea-86e4-6b525ac0dc1d button.colab-df-convert');\n",
              "        buttonEl.style.display =\n",
              "          google.colab.kernel.accessAllowed ? 'block' : 'none';\n",
              "\n",
              "        async function convertToInteractive(key) {\n",
              "          const element = document.querySelector('#df-3c911189-5388-43ea-86e4-6b525ac0dc1d');\n",
              "          const dataTable =\n",
              "            await google.colab.kernel.invokeFunction('convertToInteractive',\n",
              "                                                     [key], {});\n",
              "          if (!dataTable) return;\n",
              "\n",
              "          const docLinkHtml = 'Like what you see? Visit the ' +\n",
              "            '<a target=\"_blank\" href=https://colab.research.google.com/notebooks/data_table.ipynb>data table notebook</a>'\n",
              "            + ' to learn more about interactive tables.';\n",
              "          element.innerHTML = '';\n",
              "          dataTable['output_type'] = 'display_data';\n",
              "          await google.colab.output.renderOutput(dataTable, element);\n",
              "          const docLink = document.createElement('div');\n",
              "          docLink.innerHTML = docLinkHtml;\n",
              "          element.appendChild(docLink);\n",
              "        }\n",
              "      </script>\n",
              "    </div>\n",
              "  </div>\n",
              "  "
            ]
          },
          "metadata": {},
          "execution_count": 3
        }
      ]
    },
    {
      "cell_type": "markdown",
      "source": [
        "Neural networks work with numeric data only. In our data set we have 2 non-numeric variables - **category** and **sms**.  \n",
        "\n",
        "First, we mutate **category** column from categorical (string) to numeric data type. Following standard naming convention, we also change column name to **target**.  \n",
        "\n",
        "The second column, **sms**, is not mutated (yet). Data from this column will be automatically changed using the Google **word embedding** model."
      ],
      "metadata": {
        "id": "OMs3nJoM2dO0"
      }
    },
    {
      "cell_type": "code",
      "source": [
        "df['target'] = pd.Categorical(df['category'])\n",
        "df['target'] = df.target.cat.codes\n",
        "df = df.drop(['category'], axis=1)\n",
        "df.head()"
      ],
      "metadata": {
        "colab": {
          "base_uri": "https://localhost:8080/",
          "height": 204
        },
        "id": "-HuQRMchSljm",
        "outputId": "deb064a0-9ad7-4352-b4fe-d92e7d79a43e"
      },
      "execution_count": 4,
      "outputs": [
        {
          "output_type": "execute_result",
          "data": {
            "text/plain": [
              "                                                 sms  target\n",
              "0  Go until jurong point, crazy.. Available only ...       0\n",
              "1                      Ok lar... Joking wif u oni...       0\n",
              "2  Free entry in 2 a wkly comp to win FA Cup fina...       1\n",
              "3  U dun say so early hor... U c already then say...       0\n",
              "4  Nah I don't think he goes to usf, he lives aro...       0"
            ],
            "text/html": [
              "\n",
              "  <div id=\"df-fd63ce19-3e45-49a1-92e6-03861a20e719\">\n",
              "    <div class=\"colab-df-container\">\n",
              "      <div>\n",
              "<style scoped>\n",
              "    .dataframe tbody tr th:only-of-type {\n",
              "        vertical-align: middle;\n",
              "    }\n",
              "\n",
              "    .dataframe tbody tr th {\n",
              "        vertical-align: top;\n",
              "    }\n",
              "\n",
              "    .dataframe thead th {\n",
              "        text-align: right;\n",
              "    }\n",
              "</style>\n",
              "<table border=\"1\" class=\"dataframe\">\n",
              "  <thead>\n",
              "    <tr style=\"text-align: right;\">\n",
              "      <th></th>\n",
              "      <th>sms</th>\n",
              "      <th>target</th>\n",
              "    </tr>\n",
              "  </thead>\n",
              "  <tbody>\n",
              "    <tr>\n",
              "      <th>0</th>\n",
              "      <td>Go until jurong point, crazy.. Available only ...</td>\n",
              "      <td>0</td>\n",
              "    </tr>\n",
              "    <tr>\n",
              "      <th>1</th>\n",
              "      <td>Ok lar... Joking wif u oni...</td>\n",
              "      <td>0</td>\n",
              "    </tr>\n",
              "    <tr>\n",
              "      <th>2</th>\n",
              "      <td>Free entry in 2 a wkly comp to win FA Cup fina...</td>\n",
              "      <td>1</td>\n",
              "    </tr>\n",
              "    <tr>\n",
              "      <th>3</th>\n",
              "      <td>U dun say so early hor... U c already then say...</td>\n",
              "      <td>0</td>\n",
              "    </tr>\n",
              "    <tr>\n",
              "      <th>4</th>\n",
              "      <td>Nah I don't think he goes to usf, he lives aro...</td>\n",
              "      <td>0</td>\n",
              "    </tr>\n",
              "  </tbody>\n",
              "</table>\n",
              "</div>\n",
              "      <button class=\"colab-df-convert\" onclick=\"convertToInteractive('df-fd63ce19-3e45-49a1-92e6-03861a20e719')\"\n",
              "              title=\"Convert this dataframe to an interactive table.\"\n",
              "              style=\"display:none;\">\n",
              "        \n",
              "  <svg xmlns=\"http://www.w3.org/2000/svg\" height=\"24px\"viewBox=\"0 0 24 24\"\n",
              "       width=\"24px\">\n",
              "    <path d=\"M0 0h24v24H0V0z\" fill=\"none\"/>\n",
              "    <path d=\"M18.56 5.44l.94 2.06.94-2.06 2.06-.94-2.06-.94-.94-2.06-.94 2.06-2.06.94zm-11 1L8.5 8.5l.94-2.06 2.06-.94-2.06-.94L8.5 2.5l-.94 2.06-2.06.94zm10 10l.94 2.06.94-2.06 2.06-.94-2.06-.94-.94-2.06-.94 2.06-2.06.94z\"/><path d=\"M17.41 7.96l-1.37-1.37c-.4-.4-.92-.59-1.43-.59-.52 0-1.04.2-1.43.59L10.3 9.45l-7.72 7.72c-.78.78-.78 2.05 0 2.83L4 21.41c.39.39.9.59 1.41.59.51 0 1.02-.2 1.41-.59l7.78-7.78 2.81-2.81c.8-.78.8-2.07 0-2.86zM5.41 20L4 18.59l7.72-7.72 1.47 1.35L5.41 20z\"/>\n",
              "  </svg>\n",
              "      </button>\n",
              "      \n",
              "  <style>\n",
              "    .colab-df-container {\n",
              "      display:flex;\n",
              "      flex-wrap:wrap;\n",
              "      gap: 12px;\n",
              "    }\n",
              "\n",
              "    .colab-df-convert {\n",
              "      background-color: #E8F0FE;\n",
              "      border: none;\n",
              "      border-radius: 50%;\n",
              "      cursor: pointer;\n",
              "      display: none;\n",
              "      fill: #1967D2;\n",
              "      height: 32px;\n",
              "      padding: 0 0 0 0;\n",
              "      width: 32px;\n",
              "    }\n",
              "\n",
              "    .colab-df-convert:hover {\n",
              "      background-color: #E2EBFA;\n",
              "      box-shadow: 0px 1px 2px rgba(60, 64, 67, 0.3), 0px 1px 3px 1px rgba(60, 64, 67, 0.15);\n",
              "      fill: #174EA6;\n",
              "    }\n",
              "\n",
              "    [theme=dark] .colab-df-convert {\n",
              "      background-color: #3B4455;\n",
              "      fill: #D2E3FC;\n",
              "    }\n",
              "\n",
              "    [theme=dark] .colab-df-convert:hover {\n",
              "      background-color: #434B5C;\n",
              "      box-shadow: 0px 1px 3px 1px rgba(0, 0, 0, 0.15);\n",
              "      filter: drop-shadow(0px 1px 2px rgba(0, 0, 0, 0.3));\n",
              "      fill: #FFFFFF;\n",
              "    }\n",
              "  </style>\n",
              "\n",
              "      <script>\n",
              "        const buttonEl =\n",
              "          document.querySelector('#df-fd63ce19-3e45-49a1-92e6-03861a20e719 button.colab-df-convert');\n",
              "        buttonEl.style.display =\n",
              "          google.colab.kernel.accessAllowed ? 'block' : 'none';\n",
              "\n",
              "        async function convertToInteractive(key) {\n",
              "          const element = document.querySelector('#df-fd63ce19-3e45-49a1-92e6-03861a20e719');\n",
              "          const dataTable =\n",
              "            await google.colab.kernel.invokeFunction('convertToInteractive',\n",
              "                                                     [key], {});\n",
              "          if (!dataTable) return;\n",
              "\n",
              "          const docLinkHtml = 'Like what you see? Visit the ' +\n",
              "            '<a target=\"_blank\" href=https://colab.research.google.com/notebooks/data_table.ipynb>data table notebook</a>'\n",
              "            + ' to learn more about interactive tables.';\n",
              "          element.innerHTML = '';\n",
              "          dataTable['output_type'] = 'display_data';\n",
              "          await google.colab.output.renderOutput(dataTable, element);\n",
              "          const docLink = document.createElement('div');\n",
              "          docLink.innerHTML = docLinkHtml;\n",
              "          element.appendChild(docLink);\n",
              "        }\n",
              "      </script>\n",
              "    </div>\n",
              "  </div>\n",
              "  "
            ]
          },
          "metadata": {},
          "execution_count": 4
        }
      ]
    },
    {
      "cell_type": "markdown",
      "source": [
        "Define a function to create training, testing, and validation data splits. Basically, the idea if to use a subset of the data for training the classifier model,  another subset for validating the model during training, and the final subset to test the model. This is standard practice for building robust classifiers."
      ],
      "metadata": {
        "id": "P_p3tncG4SCo"
      }
    },
    {
      "cell_type": "code",
      "source": [
        "def split_train_test_val(df : pd.DataFrame, train_prop : float = 0.75, val_prop : float = 0.9):\n",
        "      \"\"\"\n",
        "          Parameters\n",
        "          ----------\n",
        "          df : pd.DataFrame\n",
        "              Data frame\n",
        "          train_size : float\n",
        "              If float, should be between 0.0 and 1.0 and represent the proportion of the dataset to include in the test split. If int, represents the absolute number of test samples. \n",
        "              If None, it will be set to 0.75. The test set will be set to it's compliment.\n",
        "          val_size : float\n",
        "              If float, should be between 0.0 and 1.0 and represent the proportion of the test dataset to include in the validation split. If int, represents the absolute number of validation samples. \n",
        "              If None, it will be set to 0.9.\n",
        "       \"\"\"\n",
        "      train, test = train_test_split(df, train_size=train_prop)\n",
        "      test, val = train_test_split(test, train_size = val_prop)\n",
        "      print(len(train), 'train examples')\n",
        "      print(len(test), 'test examples')\n",
        "      print(len(val), 'validation examples')\n",
        "      return train, test, val"
      ],
      "metadata": {
        "id": "PvqvAbOoo_q0"
      },
      "execution_count": 5,
      "outputs": []
    },
    {
      "cell_type": "markdown",
      "source": [
        "Create train, test, validate splits.  \n",
        "\n",
        "Extract examples and labels from each of the 3 splits."
      ],
      "metadata": {
        "id": "kbLFZWQY-bim"
      }
    },
    {
      "cell_type": "code",
      "source": [
        "train, test, val = split_train_test_val(df)\n",
        "\n",
        "train_examples = np.array(train['sms'])\n",
        "train_labels = np.array(train['target'])\n",
        "\n",
        "test_examples = np.array(test['sms'])\n",
        "test_labels = np.array(test['target'])\n",
        "\n",
        "val_examples = np.array(val['sms'])\n",
        "val_labels = np.array(val['target'])\n"
      ],
      "metadata": {
        "colab": {
          "base_uri": "https://localhost:8080/"
        },
        "id": "WW-WREUKqaCK",
        "outputId": "0ea79361-ceef-4b3c-f631-fddb6663e723"
      },
      "execution_count": 6,
      "outputs": [
        {
          "output_type": "stream",
          "name": "stdout",
          "text": [
            "4179 train examples\n",
            "1253 test examples\n",
            "140 validation examples\n"
          ]
        }
      ]
    },
    {
      "cell_type": "markdown",
      "source": [
        "Validate train/test splits have similar proportion of ham (0) and spam (1) as the original data."
      ],
      "metadata": {
        "id": "rmpyeEpA-1wb"
      }
    },
    {
      "cell_type": "code",
      "source": [
        "print(df.sms.count())\n",
        "print(df.target.value_counts() / len(df))\n",
        "\n",
        "splits = [train, test, val]\n",
        "for s in splits:\n",
        "  print(s.sms.count())\n",
        "  print(s.target.value_counts() / len(s))"
      ],
      "metadata": {
        "colab": {
          "base_uri": "https://localhost:8080/"
        },
        "id": "286-n3JfQ6MM",
        "outputId": "12d5384d-cbf1-41dd-9983-57752f8c65cc"
      },
      "execution_count": 7,
      "outputs": [
        {
          "output_type": "stream",
          "name": "stdout",
          "text": [
            "5572\n",
            "0    0.865937\n",
            "1    0.134063\n",
            "Name: target, dtype: float64\n",
            "4179\n",
            "0    0.862886\n",
            "1    0.137114\n",
            "Name: target, dtype: float64\n",
            "1253\n",
            "0    0.878691\n",
            "1    0.121309\n",
            "Name: target, dtype: float64\n",
            "140\n",
            "0    0.842857\n",
            "1    0.157143\n",
            "Name: target, dtype: float64\n"
          ]
        }
      ]
    },
    {
      "cell_type": "code",
      "source": [
        "# A utility method to create a tf.data dataset from a Pandas Dataframe\n",
        "def df_to_dataset(dataframe, shuffle=False, batch_size=32):\n",
        "  dataframe = dataframe.copy()\n",
        "  labels = dataframe.pop('target')\n",
        "  ds = tf.data.Dataset.from_tensor_slices((dict(dataframe), labels))\n",
        "  if shuffle:\n",
        "    ds = ds.shuffle(buffer_size=len(dataframe))\n",
        "  ds = ds.batch(batch_size)\n",
        "  return ds"
      ],
      "metadata": {
        "id": "5yKCy_vakhrl"
      },
      "execution_count": 8,
      "outputs": []
    },
    {
      "cell_type": "markdown",
      "source": [
        "Use token based text embedding model trained on English Google News 7B corpus. By using this model we avoid the need to create embeddings for the **sms** string variable. "
      ],
      "metadata": {
        "id": "NtfP82QSAhk0"
      }
    },
    {
      "cell_type": "code",
      "source": [
        "# No need to train the Google model\n",
        "embedding = hub.KerasLayer(\"https://tfhub.dev/google/nnlm-en-dim50/2\", input_shape=[], dtype=tf.string, trainable=True)"
      ],
      "metadata": {
        "id": "OFwWytdTtG1F"
      },
      "execution_count": 9,
      "outputs": []
    },
    {
      "cell_type": "markdown",
      "source": [
        "Create the Tensorflow NN model. Note, we add the Google text embedding model as the input layer."
      ],
      "metadata": {
        "id": "gN2CX20eBKej"
      }
    },
    {
      "cell_type": "code",
      "source": [
        "model = tf.keras.Sequential()\n",
        "model.add(embedding)\n",
        "model.add(tf.keras.layers.Dense(128, activation='relu'))\n",
        "model.add(tf.keras.layers.Dense(16, activation='relu'))\n",
        "model.add(tf.keras.layers.Dense(1, activation='sigmoid'))\n",
        "model.summary()"
      ],
      "metadata": {
        "colab": {
          "base_uri": "https://localhost:8080/"
        },
        "id": "Sk-vLwwJS9_q",
        "outputId": "f4a166a7-201e-4827-8028-58fcd37b1b3f"
      },
      "execution_count": 10,
      "outputs": [
        {
          "output_type": "stream",
          "name": "stdout",
          "text": [
            "Model: \"sequential\"\n",
            "_________________________________________________________________\n",
            " Layer (type)                Output Shape              Param #   \n",
            "=================================================================\n",
            " keras_layer (KerasLayer)    (None, 50)                48190600  \n",
            "                                                                 \n",
            " dense (Dense)               (None, 128)               6528      \n",
            "                                                                 \n",
            " dense_1 (Dense)             (None, 16)                2064      \n",
            "                                                                 \n",
            " dense_2 (Dense)             (None, 1)                 17        \n",
            "                                                                 \n",
            "=================================================================\n",
            "Total params: 48,199,209\n",
            "Trainable params: 48,199,209\n",
            "Non-trainable params: 0\n",
            "_________________________________________________________________\n"
          ]
        }
      ]
    },
    {
      "cell_type": "markdown",
      "source": [
        "Compile model."
      ],
      "metadata": {
        "id": "wKs66KJIBo5w"
      }
    },
    {
      "cell_type": "code",
      "source": [
        "model.compile(optimizer='adam',\n",
        "              loss=tf.losses.BinaryCrossentropy(),\n",
        "              metrics=[tf.metrics.BinaryAccuracy(name='accuracy')])"
      ],
      "metadata": {
        "id": "oOQRX67gTeFp"
      },
      "execution_count": 11,
      "outputs": []
    },
    {
      "cell_type": "markdown",
      "source": [
        "Train model with training data. Note, validation split is used during model training."
      ],
      "metadata": {
        "id": "QnRjmN4rBref"
      }
    },
    {
      "cell_type": "code",
      "source": [
        "history = model.fit(train_examples,\n",
        "                    train_labels,\n",
        "                    epochs=5,\n",
        "                     validation_data=(val_examples, val_labels)\n",
        "                    )"
      ],
      "metadata": {
        "colab": {
          "base_uri": "https://localhost:8080/"
        },
        "id": "Mg5GfevQTnFi",
        "outputId": "9ad22cd4-9e52-44e8-c8be-9970ecad8209"
      },
      "execution_count": 12,
      "outputs": [
        {
          "output_type": "stream",
          "name": "stdout",
          "text": [
            "Epoch 1/5\n",
            "131/131 [==============================] - 73s 543ms/step - loss: 0.2468 - accuracy: 0.9174 - val_loss: 0.0769 - val_accuracy: 0.9929\n",
            "Epoch 2/5\n",
            "131/131 [==============================] - 65s 494ms/step - loss: 0.0515 - accuracy: 0.9866 - val_loss: 0.0669 - val_accuracy: 0.9857\n",
            "Epoch 3/5\n",
            "131/131 [==============================] - 64s 491ms/step - loss: 0.0179 - accuracy: 0.9959 - val_loss: 0.0650 - val_accuracy: 0.9786\n",
            "Epoch 4/5\n",
            "131/131 [==============================] - 64s 488ms/step - loss: 0.0060 - accuracy: 0.9990 - val_loss: 0.0679 - val_accuracy: 0.9857\n",
            "Epoch 5/5\n",
            "131/131 [==============================] - 62s 477ms/step - loss: 0.0020 - accuracy: 0.9998 - val_loss: 0.0762 - val_accuracy: 0.9857\n"
          ]
        }
      ]
    },
    {
      "cell_type": "markdown",
      "source": [
        "Test the trained model against the test split."
      ],
      "metadata": {
        "id": "fCdvfWNyCeuv"
      }
    },
    {
      "cell_type": "code",
      "source": [
        "loss, accuracy = model.evaluate(test_examples, test_labels)\n",
        "print(\"Accuracy\", accuracy)"
      ],
      "metadata": {
        "colab": {
          "base_uri": "https://localhost:8080/"
        },
        "id": "l3FGdhGctUYv",
        "outputId": "09247ae4-5bd2-4a6e-c2e1-90a57e040337"
      },
      "execution_count": 13,
      "outputs": [
        {
          "output_type": "stream",
          "name": "stdout",
          "text": [
            "40/40 [==============================] - 4s 84ms/step - loss: 0.0950 - accuracy: 0.9785\n",
            "Accuracy 0.9784517288208008\n"
          ]
        }
      ]
    },
    {
      "cell_type": "code",
      "source": [
        "preds = model.predict(test_examples, verbose=1)\n",
        "preds_flat = [x[0] for x in preds]\n",
        "preds_flat_labels = [1 if x > 0.5 else 0 for x in preds]\n",
        "print(preds_flat)\n",
        "print(preds_flat_labels)\n"
      ],
      "metadata": {
        "colab": {
          "base_uri": "https://localhost:8080/"
        },
        "id": "YgzcSPO_o9yt",
        "outputId": "622a8878-7432-4260-865a-23a0edd4da35"
      },
      "execution_count": 14,
      "outputs": [
        {
          "output_type": "stream",
          "name": "stdout",
          "text": [
            "40/40 [==============================] - 2s 54ms/step\n",
            "[4.5816337e-06, 1.47677265e-05, 1.476967e-05, 2.9040704e-05, 2.2820015e-10, 0.0004406739, 1.4164632e-05, 0.9996796, 0.00019987125, 0.000151921, 3.6463229e-07, 2.9685864e-06, 2.5894682e-05, 1.3835935e-05, 4.9069536e-07, 2.2905238e-05, 0.00027723663, 0.0016501413, 0.002900586, 0.00027094764, 0.0009952917, 0.00036993917, 5.402371e-05, 9.698195e-08, 0.00022765597, 3.7709665e-08, 6.1556545e-07, 0.0018474745, 7.492728e-05, 6.18537e-06, 0.012826382, 3.3394375e-05, 6.32511e-06, 9.610215e-05, 7.2002217e-06, 0.071576685, 0.010336666, 0.3345055, 3.919966e-08, 4.2692356e-08, 1.0892811e-05, 0.00021901458, 0.018565305, 0.0011218138, 5.285057e-10, 0.99960035, 2.5313062e-08, 0.012867999, 0.006624383, 1.5472404e-05, 0.0012286309, 0.00013795713, 2.180824e-06, 0.00211073, 0.00012686521, 0.00019889638, 0.99986756, 0.003877269, 0.9847235, 0.99775016, 1.2778113e-05, 0.99984586, 3.600481e-05, 8.674252e-06, 0.9998718, 1.4163521e-07, 0.002034755, 0.008774945, 0.99034256, 1.3124316e-06, 0.0004951172, 0.00177871, 3.2044968e-06, 1.1724173e-06, 1.8613331e-05, 2.5180145e-06, 0.97156227, 0.00092759094, 0.0001087169, 4.1974516e-07, 0.9999872, 0.00061993115, 0.00019725405, 4.847719e-07, 0.010874724, 2.6993177e-06, 1.3852913e-05, 0.009185896, 0.0010129169, 0.0030719903, 0.9999544, 1.2028068e-05, 0.02835851, 5.43154e-06, 3.196565e-05, 0.0011447198, 0.99867046, 0.008283227, 6.0202257e-07, 0.06895064, 1.4929318e-06, 0.00017792675, 0.00011231634, 0.00012373664, 0.13477446, 1.1721507e-05, 0.00017203482, 0.0009726441, 8.3867104e-05, 7.705576e-06, 0.9991673, 0.0030320396, 9.464961e-06, 4.8555365e-05, 1.5731086e-06, 0.005414457, 8.146651e-06, 1.1426877e-05, 0.000118133714, 0.99967223, 0.00044754427, 2.902323e-08, 0.018189529, 1.1605561e-05, 3.735517e-07, 5.3769396e-05, 0.0011210793, 1.70413e-05, 2.7145561e-05, 0.00050671946, 1.2474268e-07, 1.7399988e-06, 0.00029876461, 2.008492e-05, 7.930048e-06, 0.29549304, 0.0006668904, 0.9999451, 0.0035409536, 0.0034773615, 1.11961435e-05, 0.0023258354, 2.021499e-07, 7.6810575e-05, 3.1034417e-06, 0.0015194569, 0.9998748, 0.00021727059, 0.0008831763, 0.0014420905, 2.403229e-06, 1.6050459e-06, 4.0899416e-05, 3.224331e-05, 1.9239619e-07, 2.3355453e-08, 3.7253421e-06, 6.7249294e-07, 4.1548847e-05, 0.0001429444, 0.9938313, 0.00091211003, 0.001183858, 1.3809622e-05, 4.347394e-07, 4.490107e-08, 0.0044405456, 0.0031846005, 0.0001457419, 1.2407769e-05, 4.1082053e-06, 8.196643e-06, 0.0001541817, 0.0004928441, 9.294292e-05, 2.4244204e-07, 0.036621407, 0.00023170609, 0.0010380875, 0.9998214, 0.00036011165, 0.9991806, 0.060830493, 0.9998567, 4.5336652e-05, 0.0008133953, 6.3085677e-06, 1.2751927e-05, 1.1117918e-05, 0.00027909037, 5.027517e-07, 1.5327831e-06, 5.8826572e-05, 5.6288794e-05, 5.91002e-08, 0.0042161606, 1.2824735e-05, 0.12971725, 0.00029295753, 4.5254012e-07, 0.007079156, 1.3188128e-05, 0.0012666966, 0.0021289894, 0.007862905, 0.0012877281, 0.0003869328, 0.0062033995, 0.9971399, 0.00945819, 0.0030782146, 6.291453e-07, 5.619271e-06, 7.2409657e-06, 0.0001077777, 0.0006940253, 0.996416, 0.11587655, 1.4101394e-05, 2.294989e-06, 0.998853, 0.99844766, 2.9989542e-05, 7.279371e-05, 0.99970484, 5.91532e-07, 7.0301445e-07, 2.0432886e-07, 8.426869e-07, 4.835136e-05, 4.0425217e-05, 0.32493058, 8.884444e-06, 0.983285, 0.0006491567, 1.0927487e-06, 0.000101230195, 1.2873095e-06, 0.0072661894, 0.00019013668, 8.900472e-06, 5.2932387e-07, 0.0037552319, 5.5827295e-05, 3.843202e-05, 6.70633e-07, 1.9816258e-05, 1.147843e-05, 0.99946034, 6.0395705e-10, 0.0027242585, 0.99984556, 1.0025609e-05, 0.00037235627, 3.478924e-05, 1.7640672e-06, 0.0003183226, 0.009384976, 3.0288545e-06, 7.1459817e-06, 0.9990123, 1.0135203e-07, 0.12957367, 7.056839e-07, 0.003826992, 2.4684218e-06, 0.0013679491, 3.2902818e-07, 5.90568e-05, 0.00021746913, 4.91921e-06, 3.8781232e-07, 7.3569645e-06, 3.318409e-05, 0.031133441, 0.004099493, 0.0014350592, 8.436925e-06, 2.755457e-07, 6.2624476e-06, 2.553199e-05, 0.000104666375, 0.0025423781, 8.088413e-06, 0.00023306074, 3.081187e-05, 1.0441576e-05, 0.00013712367, 5.322374e-05, 7.3520764e-06, 6.4852525e-06, 0.00034529006, 2.5999052e-05, 0.99820554, 0.00024257977, 1.3415538e-06, 0.0052473145, 0.9998071, 5.90568e-05, 0.00015005315, 2.6542016e-06, 5.2561927e-06, 0.03894885, 0.00013980542, 0.00602836, 5.6585264e-07, 3.1143415e-07, 0.010325671, 0.99994856, 0.023464397, 0.00019198004, 0.0043286714, 1.9863048e-05, 1.650729e-06, 0.00012350819, 7.5529255e-07, 7.1827926e-05, 0.000114089424, 0.017508795, 0.99947083, 0.13747725, 1.548228e-06, 0.0010455727, 0.00015787355, 0.053532135, 1.0718511e-08, 1.0850144e-06, 6.0911716e-06, 1.447155e-05, 4.3758027e-05, 7.5421485e-05, 7.5722924e-06, 5.9599763e-05, 0.000112770496, 0.9997215, 1.253337e-06, 4.4628276e-08, 0.00077884935, 1.33101585e-05, 0.0023957232, 0.0008191606, 0.0005986123, 1.733478e-06, 2.4549028e-05, 1.0065799e-06, 0.00077884935, 9.374036e-05, 5.7195444e-05, 0.003594306, 2.4684218e-06, 0.00051340886, 6.21099e-08, 8.1700085e-07, 1.30206945e-05, 0.9604021, 2.61875e-06, 4.2112584e-05, 0.28434923, 4.4418482e-07, 1.7032966e-05, 0.00047152262, 3.6990034e-06, 7.866836e-06, 1.17615255e-05, 0.99952203, 0.00011942387, 0.005246073, 0.94693536, 0.0040235748, 5.632226e-07, 1.2570655e-07, 6.590936e-06, 9.977898e-06, 5.116711e-05, 0.00050686224, 0.99986655, 3.1483145e-05, 0.0006119644, 7.382506e-06, 1.868903e-05, 0.000624481, 0.0013345503, 1.16295805e-05, 1.0353606e-08, 0.00025806524, 2.0501998e-06, 0.9998464, 7.781031e-05, 2.1977645e-05, 9.986637e-06, 0.975156, 3.3126426e-07, 0.9998748, 1.2089456e-05, 3.863881e-05, 3.8455702e-05, 1.0639801e-05, 0.010979733, 4.407485e-09, 0.0001670362, 0.0002190994, 1.1217359e-06, 5.191829e-07, 4.7303434e-05, 0.00016184461, 4.9262617e-05, 1.15987e-07, 4.178754e-05, 0.00038757827, 2.1771623e-06, 6.1358196e-06, 3.517582e-05, 0.00014886957, 0.00013637962, 0.0003118475, 1.01299655e-07, 1.0366617e-06, 0.0010762685, 0.00074839016, 0.00063173275, 0.0001733019, 1.964927e-07, 1.2638643e-09, 2.4161764e-06, 6.281824e-05, 2.4076742e-05, 1.903725e-05, 0.0023282971, 8.87634e-06, 1.7335475e-06, 6.3478315e-06, 1.668487e-06, 0.00013054891, 7.1462205e-06, 2.2112614e-05, 0.99964446, 6.674376e-05, 2.63069e-06, 8.806413e-07, 0.00497951, 7.679944e-05, 7.725266e-06, 1.7277788e-08, 2.2833214e-07, 0.46593103, 2.1523625e-05, 2.6612006e-05, 2.7145561e-05, 0.004169589, 1.13434226e-07, 8.776257e-06, 2.0536281e-06, 2.3704562e-05, 0.02002287, 0.00027809854, 2.2529348e-05, 1.1950293e-06, 0.0009689042, 3.875867e-06, 1.1457737e-05, 0.0013339047, 0.00060135254, 3.0442456e-05, 6.674376e-05, 1.3136763e-06, 1.3912914e-05, 0.012563133, 2.2788607e-05, 0.05020945, 5.5343182e-05, 5.8574267e-07, 9.602519e-05, 4.074168e-06, 2.6458756e-05, 1.5257362e-05, 1.3737365e-05, 1.4032467e-05, 0.0001163801, 2.7930012e-06, 0.9837647, 6.7268356e-06, 0.00027664623, 0.00096410024, 2.3829652e-05, 5.6397727e-07, 1.7390764e-06, 1.3983068e-05, 6.4871536e-05, 0.9999434, 0.0003414939, 0.9998076, 4.204593e-05, 0.0015883083, 1.4133342e-05, 1.180384e-06, 0.00095195003, 1.219134e-05, 9.848325e-07, 9.543494e-05, 7.625659e-06, 0.89343566, 0.0026296782, 9.94683e-07, 2.7943657e-05, 3.6442554e-11, 2.7515491e-06, 0.00011946785, 0.006105416, 5.6341207e-05, 9.67055e-07, 0.9941544, 0.16395572, 3.560596e-05, 0.00028974455, 1.0346832e-05, 0.0009394524, 2.3315532e-05, 5.2890206e-05, 0.0003336275, 3.2753126e-06, 1.1433311e-06, 0.00023170609, 0.010196944, 5.149046e-05, 1.903728e-07, 1.9211654e-06, 9.175332e-06, 0.93888587, 3.18108e-07, 0.9994862, 0.010773356, 0.00018253399, 0.00032266806, 0.0024206156, 0.09049435, 1.6006135e-05, 0.0091816485, 0.0004145484, 2.1323507e-05, 0.0007413378, 0.016949113, 7.1827926e-05, 0.001088259, 6.223575e-05, 0.010343995, 5.9821203e-05, 0.0010702433, 5.90568e-05, 8.1700085e-07, 8.024847e-05, 0.00029026542, 3.80428e-05, 9.1970905e-05, 0.0022801613, 0.99983376, 0.0005538292, 0.00017139871, 8.88312e-05, 1.0366617e-06, 0.99994034, 0.9963614, 0.010183433, 7.680955e-06, 0.9997761, 0.00017543383, 0.00017546545, 2.2869703e-05, 0.99980843, 0.99968874, 4.817472e-07, 5.2723914e-07, 0.0014244581, 0.0004299169, 8.841894e-06, 1.7724244e-05, 0.008582605, 2.2250378e-08, 0.00078927615, 2.607199e-08, 0.0014632653, 1.9718402e-05, 0.0025585203, 0.00012717102, 0.49190372, 7.916779e-05, 5.198123e-09, 7.198729e-05, 0.0001825451, 1.4764403e-05, 1.5964018e-08, 4.360488e-06, 3.268881e-06, 0.0007820831, 4.1069834e-06, 7.0623054e-07, 2.095436e-05, 0.0007146117, 0.9998385, 0.0010424029, 0.9985986, 9.240951e-05, 0.9299331, 0.0007760812, 3.0526906e-05, 0.0008163297, 0.9996541, 3.1965224e-05, 0.99877644, 0.0051154206, 6.4009225e-07, 3.224331e-05, 1.265583e-05, 5.069397e-06, 2.9250723e-06, 0.00018912843, 0.00049509713, 1.0785175e-05, 0.00071189186, 4.5413934e-05, 5.322575e-06, 3.065594e-05, 1.9477253e-05, 0.0026855667, 0.9999559, 0.9991628, 4.7883463e-05, 8.5251006e-05, 0.001039029, 0.00021098282, 0.004209719, 0.00013386858, 3.795693e-07, 2.5823829e-05, 2.2529626e-05, 3.8741825e-07, 1.3017615e-05, 1.2322626e-07, 0.9635167, 0.9999018, 0.40632242, 6.282649e-06, 0.033558592, 0.000111266, 6.6563376e-07, 2.4621191e-05, 0.0006966073, 1.4790185e-06, 0.00010992509, 8.509793e-07, 0.00016144017, 0.9999836, 0.0033035525, 3.4918145e-07, 8.436925e-06, 0.8953388, 4.3967375e-05, 9.2389473e-07, 5.6846187e-07, 0.004849037, 0.99950635, 0.0056099864, 0.9998851, 1.7722436e-05, 4.866752e-07, 4.2560768e-07, 2.538359e-06, 0.0004213403, 0.00029373975, 6.0261334e-09, 0.78448576, 0.00041945113, 3.2015961e-07, 3.6535073e-06, 1.9264846e-05, 1.8046252e-06, 6.0246624e-05, 3.4622103e-06, 2.66807e-08, 0.0012800582, 2.7946988e-05, 5.2143085e-09, 1.8617719e-07, 0.001017803, 0.5301745, 0.00013115493, 2.6100533e-06, 3.1847864e-07, 0.00011232768, 1.0552919e-06, 0.0001278396, 7.093717e-05, 0.00012808487, 8.068105e-06, 3.6042984e-08, 0.021641538, 0.999187, 5.6731274e-06, 0.0155811235, 0.9997506, 1.8237673e-08, 6.479624e-07, 0.03308921, 0.000796793, 0.9977333, 3.0515963e-05, 0.0016410664, 5.2730764e-05, 0.00018909742, 4.5491088e-05, 0.00033693164, 0.0031312215, 0.0001023874, 3.460837e-05, 4.5113553e-05, 0.00709138, 7.785371e-07, 2.2545838e-07, 0.0013475432, 3.548136e-05, 0.016529689, 1.4533445e-06, 0.00021098282, 2.9610212e-07, 3.6001515e-05, 0.009400367, 0.00070309883, 0.00024137569, 3.142567e-05, 0.00029560886, 1.2615186e-07, 3.3671146e-05, 2.1906155e-07, 9.280105e-05, 2.3308461e-05, 4.3883534e-07, 1.3705377e-06, 0.0013020687, 0.00011621718, 0.0032544956, 0.060830493, 0.98942304, 0.8835712, 2.7706037e-05, 3.959571e-05, 0.00010085577, 1.4804996e-05, 0.00033273656, 0.0032883175, 3.6671456e-05, 0.01090853, 0.9993673, 0.99912375, 2.2055438e-06, 1.233129e-07, 0.99966484, 6.5550225e-08, 0.0002182323, 0.999962, 2.7145561e-05, 0.0032380002, 3.8285357e-06, 9.729989e-06, 0.00021051541, 0.023964856, 0.0012287714, 0.00159097, 1.8919518e-05, 7.590976e-05, 0.9964326, 0.9998851, 9.628682e-06, 0.001332588, 1.8046252e-06, 0.0007512262, 0.00042229387, 3.7301095e-06, 0.9997377, 0.00011476286, 3.9438033e-05, 0.00047995397, 0.00023029739, 0.0012855467, 7.283358e-06, 2.4021241e-05, 0.998956, 0.9555479, 1.2284754e-06, 0.00957355, 8.616831e-07, 0.008001464, 2.131436e-05, 0.000884898, 0.0033195713, 1.4897197e-05, 6.9917263e-07, 8.922007e-06, 6.7104696e-07, 5.162255e-07, 2.8575838e-07, 0.0012966025, 7.87178e-07, 1.1146869e-06, 0.0010232165, 2.8053153e-06, 5.147072e-05, 2.1900452e-07, 3.7782668e-06, 4.7208744e-08, 0.0017599034, 0.0012584866, 1.7632111e-06, 2.590557e-06, 0.019648297, 2.7384982e-05, 2.3561874e-05, 3.9584836e-07, 5.0861394e-07, 5.1654342e-06, 2.2429451e-07, 2.9239854e-07, 0.00048439112, 4.263352e-05, 5.7669376e-09, 0.00071115984, 0.00077884935, 2.3104769e-05, 6.6096436e-06, 8.584559e-06, 2.1300473e-06, 3.077937e-06, 1.0072148e-07, 0.049502954, 5.1183408e-05, 2.0414063e-06, 0.00037822756, 0.00023784449, 3.777712e-08, 0.999778, 8.746754e-05, 2.1202735e-05, 5.8376045e-05, 7.415257e-07, 7.14323e-05, 0.0002670318, 0.07722007, 0.7605142, 0.00012404236, 0.34772158, 2.6092668e-05, 4.9326074e-05, 3.475118e-06, 0.10371728, 0.99994785, 1.5281288e-05, 1.2017719e-07, 0.14242223, 7.0086186e-05, 3.1313913e-08, 0.0004227661, 0.00010784852, 0.00013114142, 2.342331e-05, 0.0026213098, 0.00026936282, 1.4235268e-05, 1.2696677e-05, 0.00028907953, 0.0006708963, 0.0003016764, 1.4407023e-05, 1.21070025e-05, 1.0656179e-07, 0.9712942, 0.0043270006, 0.001083161, 8.2327756e-07, 0.00011299342, 0.00019243399, 0.00064996106, 7.714354e-05, 1.025509e-06, 0.0002550862, 0.00013773485, 1.3113081e-06, 0.99937046, 0.99981886, 7.5491043e-06, 0.007300601, 0.0016042244, 6.278045e-05, 0.00026904838, 2.4585108e-05, 4.7755297e-08, 2.7263482e-06, 1.9685463e-05, 2.1084776e-05, 3.8006903e-05, 1.4015349e-08, 2.5619543e-06, 0.99993104, 0.00011699217, 0.00017195511, 0.00070309883, 4.1666135e-05, 0.00024257977, 0.99978673, 2.5060886e-05, 0.13809304, 7.398707e-10, 9.579198e-05, 4.777302e-07, 0.002455029, 3.0841015e-06, 0.0005387759, 0.9999441, 5.7517313e-10, 8.101807e-05, 2.7521986e-05, 0.008784784, 0.009842368, 0.0064000785, 0.00079993147, 5.2934734e-06, 0.0003658135, 0.00013264507, 5.7952096e-09, 0.98419774, 1.4485539e-06, 0.9998091, 2.0016943e-05, 6.604389e-06, 9.530434e-05, 3.0252172e-06, 8.0841555e-06, 6.7378525e-05, 0.003159551, 7.0363617e-06, 0.022135127, 0.00065910147, 3.9220416e-07, 0.00019053409, 9.128246e-09, 6.746558e-07, 6.1354925e-08, 4.7710866e-08, 1.4653411e-06, 0.000597001, 0.00010993631, 0.0009768156, 3.3668544e-05, 0.99976176, 1.5933596e-05, 1.6490123e-05, 7.684593e-07, 0.00046729797, 4.3951113e-05, 0.00010947007, 3.170399e-05, 0.000639182, 6.5095915e-06, 5.7242128e-06, 3.9315267e-08, 5.666942e-05, 0.00092269044, 1.813793e-05, 7.226269e-05, 8.577247e-05, 0.011785399, 3.4980212e-06, 2.894247e-06, 2.1077211e-07, 8.105555e-06, 0.00071115984, 0.7903628, 7.2777066e-06, 4.960652e-05, 0.00024082902, 0.0060540005, 0.0003980224, 0.9994309, 0.00028476978, 1.6193897e-05, 3.8155667e-06, 4.4380095e-06, 0.0012647092, 5.7073356e-07, 8.975959e-07, 0.0012800582, 4.328804e-06, 2.9495632e-06, 0.0038242764, 3.3885303e-06, 0.0011818194, 0.2743189, 0.00021513744, 2.4509656e-05, 8.024847e-05, 5.90568e-05, 0.0003715191, 0.76199704, 0.99883235, 0.00084266276, 1.3623016e-05, 3.0733216e-05, 9.459615e-08, 2.691878e-06, 1.813198e-05, 0.00035894633, 0.9973954, 1.3264605e-06, 0.0005376575, 0.0006555576, 0.07192652, 0.9837647, 5.143824e-05, 0.99984294, 6.0202257e-07, 0.00063031225, 0.0020655538, 1.0501654e-05, 0.006542212, 0.9997754, 3.5440536e-07, 4.6205936e-05, 0.99988425, 0.00016959987, 3.3445845e-06, 1.9035615e-05, 3.5288715e-05, 0.0031620692, 3.2531664e-06, 4.6280467e-05, 0.998328, 0.00018325173, 0.58092356, 0.31833178, 1.5013264e-08, 1.2627137e-05, 3.6411082e-05, 0.79635483, 2.5940528e-05, 0.0004881369, 0.0044836146, 0.0041739964, 6.794448e-07, 4.7187732e-05, 6.9544e-08, 0.00691381, 4.0069273e-05, 0.8996466, 3.6619383e-06, 2.9201232e-07, 0.99997354, 0.00015342701, 0.10474612, 8.837551e-07, 0.0019851085, 0.00027925486, 1.591337e-05, 1.5481068e-05, 5.2752453e-06, 2.1694896e-05, 1.285791e-05, 4.419758e-05, 4.1035764e-05, 3.5978567e-06, 0.0017619226, 5.90568e-05, 1.6700165e-05, 0.0011392784, 0.00062539533, 8.3849665e-07, 0.0037564149, 0.9999174, 2.2896547e-06, 0.0011406081, 0.00028547223, 0.006105416, 0.00055162754, 5.90568e-05, 2.1824799e-06, 3.6130008e-05, 7.077871e-05, 1.4009611e-06, 0.0011248591, 0.0010761515, 0.0006031199, 0.0002571736, 0.0013626737, 3.2689964e-06, 3.3727743e-09, 0.9929857, 0.0038242764, 0.0010303791, 3.8673386e-07, 1.116946e-05, 1.321565e-06, 0.004168142, 0.99990135, 1.3719154e-05, 0.959782, 0.001354246, 0.9982572, 0.9982136, 5.3169155e-05, 0.05399988, 2.1076534e-05, 0.0007816502, 0.99999726, 5.90568e-05, 0.9995818, 0.9996892, 0.00010190195, 0.00021898537, 0.0006524182, 9.417744e-06, 0.07801455, 0.04482407, 5.7106507e-05, 5.3590075e-09, 0.00046482566, 0.00054661086, 0.9996414, 0.00061176927, 0.0030725934, 2.7236452e-05, 2.9886703e-05, 2.1714623e-05, 0.00055061665, 0.0014921707, 0.0005521144, 0.0054485975, 3.2063865e-05, 0.99924856, 5.981966e-08, 9.403302e-05, 0.008278443, 0.033113334, 0.046568546, 0.0072029377, 6.8434225e-08, 4.5454335e-06, 0.00020176552, 2.5256983e-07, 3.6077417e-06, 0.99981654, 9.3373666e-07, 8.622145e-06, 0.95631194, 3.946678e-05, 3.6442415e-11, 0.001258782, 5.6292767e-05, 0.00034938264, 5.649403e-07, 3.0564647e-07, 4.440142e-05, 9.450253e-05, 0.00022896446, 0.019443134, 0.000406471, 7.9076715e-05, 6.851003e-05, 1.595608e-07, 4.3430222e-07, 0.000109135275, 0.99951375, 3.0446068e-07, 1.33688045e-05, 0.9999621, 2.2448343e-05, 0.0007483941, 0.0009838879, 0.0019198898, 0.00034998186, 0.99889165, 4.9402057e-05, 0.005498703, 1.2795992e-07, 5.5171815e-05, 0.9998076, 0.9999307, 3.5151475e-05, 0.0027867071, 8.532738e-05, 1.114043e-05, 0.03900527, 0.0034773615, 0.024499074, 1.9823667e-05, 0.00014989484, 4.566782e-05, 8.625558e-05, 1.0382515e-05, 0.00023069514, 0.013592024, 0.037218526, 1.37889865e-05, 0.99053454, 0.00012415525, 0.9998889, 0.018927535, 0.0003407193, 1.1873065e-07, 0.22932649, 2.9192286e-06, 3.1436997e-05, 0.0007076009, 0.0001305082, 1.2030879e-05, 0.00015745369, 0.9997276, 0.22290154, 0.00035568725, 8.5262145e-06, 1.7333281e-05, 0.0004899169, 0.9994799, 0.9985534, 5.051287e-07, 1.2808736e-05, 0.00010784852, 0.99976736, 0.99937266, 0.9998647, 1.0409819e-05, 7.8141824e-08, 1.3025488e-05, 0.00035864682, 0.0027706902, 1.4651428e-06, 7.7991426e-05, 2.8742423e-07, 0.9990274, 8.5689586e-05, 4.9662696e-05, 0.0016172243, 2.6612006e-05, 0.070715085, 5.339954e-05, 1.7571783e-05, 6.451027e-07, 3.9396036e-06, 0.99993116, 1.8811965e-05, 0.77431315, 0.9999977, 1.6759311e-06, 2.320286e-06, 0.00058873865, 7.7195036e-05, 0.9912712, 5.4862583e-05]\n",
            "[0, 0, 0, 0, 0, 0, 0, 1, 0, 0, 0, 0, 0, 0, 0, 0, 0, 0, 0, 0, 0, 0, 0, 0, 0, 0, 0, 0, 0, 0, 0, 0, 0, 0, 0, 0, 0, 0, 0, 0, 0, 0, 0, 0, 0, 1, 0, 0, 0, 0, 0, 0, 0, 0, 0, 0, 1, 0, 1, 1, 0, 1, 0, 0, 1, 0, 0, 0, 1, 0, 0, 0, 0, 0, 0, 0, 1, 0, 0, 0, 1, 0, 0, 0, 0, 0, 0, 0, 0, 0, 1, 0, 0, 0, 0, 0, 1, 0, 0, 0, 0, 0, 0, 0, 0, 0, 0, 0, 0, 0, 1, 0, 0, 0, 0, 0, 0, 0, 0, 1, 0, 0, 0, 0, 0, 0, 0, 0, 0, 0, 0, 0, 0, 0, 0, 0, 0, 1, 0, 0, 0, 0, 0, 0, 0, 0, 1, 0, 0, 0, 0, 0, 0, 0, 0, 0, 0, 0, 0, 0, 1, 0, 0, 0, 0, 0, 0, 0, 0, 0, 0, 0, 0, 0, 0, 0, 0, 0, 0, 1, 0, 1, 0, 1, 0, 0, 0, 0, 0, 0, 0, 0, 0, 0, 0, 0, 0, 0, 0, 0, 0, 0, 0, 0, 0, 0, 0, 0, 1, 0, 0, 0, 0, 0, 0, 0, 1, 0, 0, 0, 1, 1, 0, 0, 1, 0, 0, 0, 0, 0, 0, 0, 0, 1, 0, 0, 0, 0, 0, 0, 0, 0, 0, 0, 0, 0, 0, 0, 1, 0, 0, 1, 0, 0, 0, 0, 0, 0, 0, 0, 1, 0, 0, 0, 0, 0, 0, 0, 0, 0, 0, 0, 0, 0, 0, 0, 0, 0, 0, 0, 0, 0, 0, 0, 0, 0, 0, 0, 0, 0, 0, 0, 0, 1, 0, 0, 0, 1, 0, 0, 0, 0, 0, 0, 0, 0, 0, 0, 1, 0, 0, 0, 0, 0, 0, 0, 0, 0, 0, 1, 0, 0, 0, 0, 0, 0, 0, 0, 0, 0, 0, 0, 0, 0, 1, 0, 0, 0, 0, 0, 0, 0, 0, 0, 0, 0, 0, 0, 0, 0, 0, 0, 0, 0, 1, 0, 0, 0, 0, 0, 0, 0, 0, 0, 1, 0, 0, 1, 0, 0, 0, 0, 0, 0, 0, 1, 0, 0, 0, 0, 0, 0, 0, 0, 0, 0, 1, 0, 0, 0, 1, 0, 1, 0, 0, 0, 0, 0, 0, 0, 0, 0, 0, 0, 0, 0, 0, 0, 0, 0, 0, 0, 0, 0, 0, 0, 0, 0, 0, 0, 0, 0, 0, 0, 0, 0, 0, 0, 0, 0, 0, 0, 0, 0, 0, 1, 0, 0, 0, 0, 0, 0, 0, 0, 0, 0, 0, 0, 0, 0, 0, 0, 0, 0, 0, 0, 0, 0, 0, 0, 0, 0, 0, 0, 0, 0, 0, 0, 0, 0, 0, 0, 0, 0, 0, 0, 0, 0, 0, 1, 0, 0, 0, 0, 0, 0, 0, 0, 1, 0, 1, 0, 0, 0, 0, 0, 0, 0, 0, 0, 1, 0, 0, 0, 0, 0, 0, 0, 0, 0, 1, 0, 0, 0, 0, 0, 0, 0, 0, 0, 0, 0, 0, 0, 0, 0, 0, 1, 0, 1, 0, 0, 0, 0, 0, 0, 0, 0, 0, 0, 0, 0, 0, 0, 0, 0, 0, 0, 0, 0, 0, 0, 0, 0, 1, 0, 0, 0, 0, 1, 1, 0, 0, 1, 0, 0, 0, 1, 1, 0, 0, 0, 0, 0, 0, 0, 0, 0, 0, 0, 0, 0, 0, 0, 0, 0, 0, 0, 0, 0, 0, 0, 0, 0, 0, 0, 0, 1, 0, 1, 0, 1, 0, 0, 0, 1, 0, 1, 0, 0, 0, 0, 0, 0, 0, 0, 0, 0, 0, 0, 0, 0, 0, 1, 1, 0, 0, 0, 0, 0, 0, 0, 0, 0, 0, 0, 0, 1, 1, 0, 0, 0, 0, 0, 0, 0, 0, 0, 0, 0, 1, 0, 0, 0, 1, 0, 0, 0, 0, 1, 0, 1, 0, 0, 0, 0, 0, 0, 0, 1, 0, 0, 0, 0, 0, 0, 0, 0, 0, 0, 0, 0, 0, 1, 0, 0, 0, 0, 0, 0, 0, 0, 0, 0, 0, 1, 0, 0, 1, 0, 0, 0, 0, 1, 0, 0, 0, 0, 0, 0, 0, 0, 0, 0, 0, 0, 0, 0, 0, 0, 0, 0, 0, 0, 0, 0, 0, 0, 0, 0, 0, 0, 0, 0, 0, 0, 0, 0, 0, 0, 1, 1, 0, 0, 0, 0, 0, 0, 0, 0, 1, 1, 0, 0, 1, 0, 0, 1, 0, 0, 0, 0, 0, 0, 0, 0, 0, 0, 1, 1, 0, 0, 0, 0, 0, 0, 1, 0, 0, 0, 0, 0, 0, 0, 1, 1, 0, 0, 0, 0, 0, 0, 0, 0, 0, 0, 0, 0, 0, 0, 0, 0, 0, 0, 0, 0, 0, 0, 0, 0, 0, 0, 0, 0, 0, 0, 0, 0, 0, 0, 0, 0, 0, 0, 0, 0, 0, 0, 0, 0, 0, 0, 0, 0, 0, 0, 0, 1, 0, 0, 0, 0, 0, 0, 0, 1, 0, 0, 0, 0, 0, 0, 1, 0, 0, 0, 0, 0, 0, 0, 0, 0, 0, 0, 0, 0, 0, 0, 0, 0, 0, 0, 1, 0, 0, 0, 0, 0, 0, 0, 0, 0, 0, 0, 1, 1, 0, 0, 0, 0, 0, 0, 0, 0, 0, 0, 0, 0, 0, 1, 0, 0, 0, 0, 0, 1, 0, 0, 0, 0, 0, 0, 0, 0, 1, 0, 0, 0, 0, 0, 0, 0, 0, 0, 0, 0, 1, 0, 1, 0, 0, 0, 0, 0, 0, 0, 0, 0, 0, 0, 0, 0, 0, 0, 0, 0, 0, 0, 0, 0, 1, 0, 0, 0, 0, 0, 0, 0, 0, 0, 0, 0, 0, 0, 0, 0, 0, 0, 0, 0, 0, 0, 0, 1, 0, 0, 0, 0, 0, 1, 0, 0, 0, 0, 0, 0, 0, 0, 0, 0, 0, 0, 0, 0, 0, 0, 0, 0, 0, 1, 1, 0, 0, 0, 0, 0, 0, 0, 1, 0, 0, 0, 0, 1, 0, 1, 0, 0, 0, 0, 0, 1, 0, 0, 1, 0, 0, 0, 0, 0, 0, 0, 1, 0, 1, 0, 0, 0, 0, 1, 0, 0, 0, 0, 0, 0, 0, 0, 0, 1, 0, 0, 1, 0, 0, 0, 0, 0, 0, 0, 0, 0, 0, 0, 0, 0, 0, 0, 0, 0, 0, 0, 0, 1, 0, 0, 0, 0, 0, 0, 0, 0, 0, 0, 0, 0, 0, 0, 0, 0, 0, 1, 0, 0, 0, 0, 0, 0, 1, 0, 1, 0, 1, 1, 0, 0, 0, 0, 1, 0, 1, 1, 0, 0, 0, 0, 0, 0, 0, 0, 0, 0, 1, 0, 0, 0, 0, 0, 0, 0, 0, 0, 0, 1, 0, 0, 0, 0, 0, 0, 0, 0, 0, 0, 0, 1, 0, 0, 1, 0, 0, 0, 0, 0, 0, 0, 0, 0, 0, 0, 0, 0, 0, 0, 0, 0, 1, 0, 0, 1, 0, 0, 0, 0, 0, 1, 0, 0, 0, 0, 1, 1, 0, 0, 0, 0, 0, 0, 0, 0, 0, 0, 0, 0, 0, 0, 0, 0, 1, 0, 1, 0, 0, 0, 0, 0, 0, 0, 0, 0, 0, 1, 0, 0, 0, 0, 0, 1, 1, 0, 0, 0, 1, 1, 1, 0, 0, 0, 0, 0, 0, 0, 0, 1, 0, 0, 0, 0, 0, 0, 0, 0, 0, 1, 0, 1, 1, 0, 0, 0, 0, 1, 0]\n"
          ]
        }
      ]
    },
    {
      "cell_type": "code",
      "source": [
        "from sklearn.metrics import classification_report, confusion_matrix\n",
        "target_names = ['0', '1']\n",
        "cm = confusion_matrix(test_labels, preds_flat_labels)"
      ],
      "metadata": {
        "id": "v1q7rM38FNWs"
      },
      "execution_count": 15,
      "outputs": []
    },
    {
      "cell_type": "markdown",
      "source": [
        ">>> from sklearn.metrics import classification_report\n",
        ">>> y_true = [0, 1, 2, 2, 2]\n",
        ">>> y_pred = [0, 0, 2, 2, 1]\n",
        ">>> target_names = ['class 0', 'class 1', 'class 2']\n",
        ">>> print(classification_report(y_true, y_pred, target_names=target_names))"
      ],
      "metadata": {
        "id": "IMU8OC9AHJNk"
      }
    },
    {
      "cell_type": "code",
      "source": [
        "from sklearn.metrics import ConfusionMatrixDisplay\n",
        "cm_display = ConfusionMatrixDisplay(cm).plot()"
      ],
      "metadata": {
        "colab": {
          "base_uri": "https://localhost:8080/",
          "height": 279
        },
        "id": "275CdwE2LOAH",
        "outputId": "e75d7290-7b90-4490-b670-079656c82c6b"
      },
      "execution_count": 16,
      "outputs": [
        {
          "output_type": "display_data",
          "data": {
            "text/plain": [
              "<Figure size 432x288 with 2 Axes>"
            ],
            "image/png": "[encoded data removed]"
          },
          "metadata": {
            "needs_background": "light"
          }
        }
      ]
    },
    {
      "cell_type": "code",
      "source": [
        "from sklearn.metrics import roc_curve\n",
        "from sklearn.metrics import RocCurveDisplay\n",
        "\n",
        "fpr, tpr, _ = roc_curve(test_labels, preds)\n",
        "roc_display = RocCurveDisplay(fpr=fpr, tpr=tpr).plot()"
      ],
      "metadata": {
        "colab": {
          "base_uri": "https://localhost:8080/",
          "height": 279
        },
        "id": "Hgz_kex3Lihw",
        "outputId": "26067b82-8efe-4ea3-890f-6584d96b7434"
      },
      "execution_count": 23,
      "outputs": [
        {
          "output_type": "display_data",
          "data": {
            "text/plain": [
              "<Figure size 432x288 with 1 Axes>"
            ],
            "image/png": "[encoded data removed]"
          },
          "metadata": {
            "needs_background": "light"
          }
        }
      ]
    }
  ]
}